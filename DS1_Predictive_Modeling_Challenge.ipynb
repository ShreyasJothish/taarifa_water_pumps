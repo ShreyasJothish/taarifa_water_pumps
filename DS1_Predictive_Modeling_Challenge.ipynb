{
  "nbformat": 4,
  "nbformat_minor": 0,
  "metadata": {
    "colab": {
      "name": "DS1 Predictive Modeling Challenge.ipynb",
      "version": "0.3.2",
      "provenance": [],
      "include_colab_link": true
    },
    "kernelspec": {
      "name": "python3",
      "display_name": "Python 3"
    }
  },
  "cells": [
    {
      "cell_type": "markdown",
      "metadata": {
        "id": "view-in-github",
        "colab_type": "text"
      },
      "source": [
        "<a href=\"https://colab.research.google.com/github/ShreyasJothish/taarifa_water_pumps/blob/master/DS1_Predictive_Modeling_Challenge.ipynb\" target=\"_parent\"><img src=\"https://colab.research.google.com/assets/colab-badge.svg\" alt=\"Open In Colab\"/></a>"
      ]
    },
    {
      "metadata": {
        "id": "scmSXzMBgebC",
        "colab_type": "code",
        "colab": {
          "base_uri": "https://localhost:8080/",
          "height": 210
        },
        "outputId": "9b0543f4-59ee-4c8e-80ca-41dab9153690"
      },
      "cell_type": "code",
      "source": [
        "# Load the data from Kaggle\n",
        "!pip install kaggle"
      ],
      "execution_count": 1,
      "outputs": [
        {
          "output_type": "stream",
          "text": [
            "Requirement already satisfied: kaggle in /usr/local/lib/python3.6/dist-packages (1.5.2)\n",
            "Requirement already satisfied: urllib3<1.23.0,>=1.15 in /usr/local/lib/python3.6/dist-packages (from kaggle) (1.22)\n",
            "Requirement already satisfied: six>=1.10 in /usr/local/lib/python3.6/dist-packages (from kaggle) (1.11.0)\n",
            "Requirement already satisfied: certifi in /usr/local/lib/python3.6/dist-packages (from kaggle) (2018.11.29)\n",
            "Requirement already satisfied: python-dateutil in /usr/local/lib/python3.6/dist-packages (from kaggle) (2.5.3)\n",
            "Requirement already satisfied: requests in /usr/local/lib/python3.6/dist-packages (from kaggle) (2.18.4)\n",
            "Requirement already satisfied: tqdm in /usr/local/lib/python3.6/dist-packages (from kaggle) (4.28.1)\n",
            "Requirement already satisfied: python-slugify in /usr/local/lib/python3.6/dist-packages (from kaggle) (2.0.1)\n",
            "Requirement already satisfied: chardet<3.1.0,>=3.0.2 in /usr/local/lib/python3.6/dist-packages (from requests->kaggle) (3.0.4)\n",
            "Requirement already satisfied: idna<2.7,>=2.5 in /usr/local/lib/python3.6/dist-packages (from requests->kaggle) (2.6)\n",
            "Requirement already satisfied: Unidecode>=0.04.16 in /usr/local/lib/python3.6/dist-packages (from python-slugify->kaggle) (1.0.23)\n"
          ],
          "name": "stdout"
        }
      ]
    },
    {
      "metadata": {
        "id": "-C1sMvUuhTKW",
        "colab_type": "code",
        "colab": {
          "base_uri": "https://localhost:8080/",
          "height": 122
        },
        "outputId": "a5e55699-a7ae-4012-e5b6-ca07e4fd0920"
      },
      "cell_type": "code",
      "source": [
        "# Mount the drive to download the data from Kaggle\n",
        "from google.colab import drive\n",
        "drive.mount('/content/drive')\n",
        "%env KAGGLE_CONFIG_DIR=/content/drive/My Drive\n",
        "\n",
        "!kaggle competitions download -c ds1-predictive-modeling-challenge"
      ],
      "execution_count": 2,
      "outputs": [
        {
          "output_type": "stream",
          "text": [
            "Drive already mounted at /content/drive; to attempt to forcibly remount, call drive.mount(\"/content/drive\", force_remount=True).\n",
            "env: KAGGLE_CONFIG_DIR=/content/drive/My Drive\n",
            "sample_submission.csv: Skipping, found more recently modified local copy (use --force to force download)\n",
            "test_features.csv.zip: Skipping, found more recently modified local copy (use --force to force download)\n",
            "train_labels.csv.zip: Skipping, found more recently modified local copy (use --force to force download)\n",
            "train_features.csv.zip: Skipping, found more recently modified local copy (use --force to force download)\n"
          ],
          "name": "stdout"
        }
      ]
    },
    {
      "metadata": {
        "id": "zSktczTZhn1V",
        "colab_type": "code",
        "colab": {
          "base_uri": "https://localhost:8080/",
          "height": 122
        },
        "outputId": "f5dcae14-0392-45c8-e443-fba48beb7fa9"
      },
      "cell_type": "code",
      "source": [
        "# Extract the csv files\n",
        "!unzip train_features.csv.zip \n",
        "!unzip train_labels.csv.zip \n",
        "!unzip test_features.csv.zip"
      ],
      "execution_count": 3,
      "outputs": [
        {
          "output_type": "stream",
          "text": [
            "Archive:  train_features.csv.zip\n",
            "replace train_features.csv? [y]es, [n]o, [A]ll, [N]one, [r]ename: N\n",
            "Archive:  train_labels.csv.zip\n",
            "replace train_labels.csv? [y]es, [n]o, [A]ll, [N]one, [r]ename: N\n",
            "Archive:  test_features.csv.zip\n",
            "replace test_features.csv? [y]es, [n]o, [A]ll, [N]one, [r]ename: N\n"
          ],
          "name": "stdout"
        }
      ]
    },
    {
      "metadata": {
        "id": "LGLiNj_xixtm",
        "colab_type": "code",
        "colab": {
          "base_uri": "https://localhost:8080/",
          "height": 248
        },
        "outputId": "f72557d5-b16a-4703-cdc7-c81f108d1f9b"
      },
      "cell_type": "code",
      "source": [
        "!pip install -U seaborn"
      ],
      "execution_count": 4,
      "outputs": [
        {
          "output_type": "stream",
          "text": [
            "Requirement already up-to-date: seaborn in /usr/local/lib/python3.6/dist-packages (0.9.0)\n",
            "Requirement already satisfied, skipping upgrade: scipy>=0.14.0 in /usr/local/lib/python3.6/dist-packages (from seaborn) (1.1.0)\n",
            "Requirement already satisfied, skipping upgrade: matplotlib>=1.4.3 in /usr/local/lib/python3.6/dist-packages (from seaborn) (3.0.2)\n",
            "Requirement already satisfied, skipping upgrade: numpy>=1.9.3 in /usr/local/lib/python3.6/dist-packages (from seaborn) (1.14.6)\n",
            "Requirement already satisfied, skipping upgrade: pandas>=0.15.2 in /usr/local/lib/python3.6/dist-packages (from seaborn) (0.22.0)\n",
            "Requirement already satisfied, skipping upgrade: python-dateutil>=2.1 in /usr/local/lib/python3.6/dist-packages (from matplotlib>=1.4.3->seaborn) (2.5.3)\n",
            "Requirement already satisfied, skipping upgrade: pyparsing!=2.0.4,!=2.1.2,!=2.1.6,>=2.0.1 in /usr/local/lib/python3.6/dist-packages (from matplotlib>=1.4.3->seaborn) (2.3.1)\n",
            "Requirement already satisfied, skipping upgrade: cycler>=0.10 in /usr/local/lib/python3.6/dist-packages (from matplotlib>=1.4.3->seaborn) (0.10.0)\n",
            "Requirement already satisfied, skipping upgrade: kiwisolver>=1.0.1 in /usr/local/lib/python3.6/dist-packages (from matplotlib>=1.4.3->seaborn) (1.0.1)\n",
            "Requirement already satisfied, skipping upgrade: pytz>=2011k in /usr/local/lib/python3.6/dist-packages (from pandas>=0.15.2->seaborn) (2018.9)\n",
            "Requirement already satisfied, skipping upgrade: six>=1.5 in /usr/local/lib/python3.6/dist-packages (from python-dateutil>=2.1->matplotlib>=1.4.3->seaborn) (1.11.0)\n",
            "Requirement already satisfied, skipping upgrade: setuptools in /usr/local/lib/python3.6/dist-packages (from kiwisolver>=1.0.1->matplotlib>=1.4.3->seaborn) (40.7.1)\n"
          ],
          "name": "stdout"
        }
      ]
    },
    {
      "metadata": {
        "id": "6C8lNXzCiMIK",
        "colab_type": "code",
        "colab": {}
      },
      "cell_type": "code",
      "source": [
        "# Generic imports\n",
        "import pandas as pd\n",
        "import numpy as np\n",
        "import matplotlib.pyplot as plt\n",
        "import seaborn as sns\n"
      ],
      "execution_count": 0,
      "outputs": []
    },
    {
      "metadata": {
        "id": "qOOZhfZGiUJV",
        "colab_type": "code",
        "colab": {}
      },
      "cell_type": "code",
      "source": [
        "# Loading the independent features as X and\n",
        "# dependent variable as y\n",
        "\"\"\"nan_values_dict = {'funder': ['Not Known', 'Unknown', 'None'],\n",
        "                   'installer': ['Not known', 'not known', '-',\n",
        "                                 'unknown', 'Unknown', 'Unknown Installer'],\n",
        "                   'subvillage': ['##'],\n",
        "                   'scheme_management': ['None'],\n",
        "                   'scheme_name': ['None', 'not known', 'none']    \n",
        "}\"\"\"\n",
        "\n",
        "nan_values_list = ['Not Known', 'Unknown', 'None', 'Not known', 'not known', \n",
        "                   '-', 'unknown', 'Unknown Installer', '##', 'none']\n",
        "\n",
        "train_features_df = pd.read_csv('train_features.csv', na_values=nan_values_list)\n",
        "train_labels_df = pd.read_csv('train_labels.csv')"
      ],
      "execution_count": 0,
      "outputs": []
    },
    {
      "metadata": {
        "id": "EmgRf3yrjYrT",
        "colab_type": "code",
        "colab": {}
      },
      "cell_type": "code",
      "source": [
        "# Finding other possible NaN values \n",
        "null_cols = []\n",
        "\n",
        "for col in train_features_df.columns:\n",
        "  null_count = train_features_df[col].isnull().sum()\n",
        "  null_cols.append(col)\n",
        "  print(f'Column name {col}:')\n",
        "  print(f'\\tType {train_features_df[col].dtype}')\n",
        "  print(f'\\tNull count {null_count}')\n",
        "  unique_values = train_features_df[col].unique()\n",
        "  print(f'\\tValue count {len(unique_values)}')\n",
        "  #for value in unique_values:\n",
        "    #print(f'\\t\\t{value}')"
      ],
      "execution_count": 0,
      "outputs": []
    },
    {
      "metadata": {
        "id": "DWQ1TZCL6wq6",
        "colab_type": "code",
        "colab": {}
      },
      "cell_type": "code",
      "source": [
        "# Selecting independent and dependent variables.\n",
        "# Iteration 1:\n",
        "# X = train_features_df.select_dtypes(include=np.number)\n",
        "\n",
        "# Iteration 2:\n",
        "X = train_features_df.drop(columns =['id', 'date_recorded', \n",
        "                                                   'funder', 'installer', \n",
        "                                                   'wpt_name', 'subvillage', \n",
        "                                                   'ward', 'scheme_name'])\n",
        "y = train_labels_df.status_group"
      ],
      "execution_count": 0,
      "outputs": []
    },
    {
      "metadata": {
        "id": "HjMlTNfD4nAk",
        "colab_type": "code",
        "colab": {}
      },
      "cell_type": "code",
      "source": [
        "# Split data into train and test using k-fold cross-validation\n",
        "# with independent test data set.\n",
        "from sklearn.model_selection import train_test_split\n",
        "\n",
        "X_train, X_test, y_train, y_test = train_test_split(X, y, \n",
        "                                                    test_size=0.25,\n",
        "                                                    shuffle=True,\n",
        "                                                    random_state=42\n",
        "                                                   )"
      ],
      "execution_count": 0,
      "outputs": []
    },
    {
      "metadata": {
        "id": "65FMSBUg6T3e",
        "colab_type": "code",
        "colab": {
          "base_uri": "https://localhost:8080/",
          "height": 52
        },
        "outputId": "e49ce241-6162-454b-b830-a6f90f065d53"
      },
      "cell_type": "code",
      "source": [
        "# Get quick initial metrics estimate.\n",
        "\n",
        "# Using sklearn accuracy_score\n",
        "import numpy as np\n",
        "from sklearn.metrics import accuracy_score\n",
        "\n",
        "majority_class = y_train.mode()[0]\n",
        "print(majority_class)\n",
        "prediction = np.full(shape=y_train.shape, \n",
        "                     fill_value=majority_class)\n",
        "\n",
        "accuracy_score(y_train, prediction)"
      ],
      "execution_count": 11,
      "outputs": [
        {
          "output_type": "stream",
          "text": [
            "functional\n"
          ],
          "name": "stdout"
        },
        {
          "output_type": "execute_result",
          "data": {
            "text/plain": [
              "0.542334455667789"
            ]
          },
          "metadata": {
            "tags": []
          },
          "execution_count": 11
        }
      ]
    },
    {
      "metadata": {
        "id": "MPVTxD2K7JH2",
        "colab_type": "code",
        "colab": {
          "base_uri": "https://localhost:8080/",
          "height": 87
        },
        "outputId": "c1d9b00f-959e-4ced-9c32-fa114ca44e61"
      },
      "cell_type": "code",
      "source": [
        "# Using simple pandas value counts method\n",
        "print(y_train.value_counts(normalize=True))"
      ],
      "execution_count": 12,
      "outputs": [
        {
          "output_type": "stream",
          "text": [
            "functional                 0.542334\n",
            "non functional             0.384871\n",
            "functional needs repair    0.072795\n",
            "Name: status_group, dtype: float64\n"
          ],
          "name": "stdout"
        }
      ]
    },
    {
      "metadata": {
        "id": "nxQ-IDZvA1m2",
        "colab_type": "code",
        "colab": {
          "base_uri": "https://localhost:8080/",
          "height": 213
        },
        "outputId": "d6ac6541-5615-4813-95e5-08287c866ce3"
      },
      "cell_type": "code",
      "source": [
        "!pip install category_encoders"
      ],
      "execution_count": 13,
      "outputs": [
        {
          "output_type": "stream",
          "text": [
            "Requirement already satisfied: category_encoders in /usr/local/lib/python3.6/dist-packages (1.3.0)\n",
            "Requirement already satisfied: scikit-learn>=0.17.1 in /usr/local/lib/python3.6/dist-packages (from category_encoders) (0.20.2)\n",
            "Requirement already satisfied: pandas>=0.20.1 in /usr/local/lib/python3.6/dist-packages (from category_encoders) (0.22.0)\n",
            "Requirement already satisfied: scipy>=0.17.0 in /usr/local/lib/python3.6/dist-packages (from category_encoders) (1.1.0)\n",
            "Requirement already satisfied: numpy>=1.11.1 in /usr/local/lib/python3.6/dist-packages (from category_encoders) (1.14.6)\n",
            "Requirement already satisfied: patsy>=0.4.1 in /usr/local/lib/python3.6/dist-packages (from category_encoders) (0.5.1)\n",
            "Requirement already satisfied: statsmodels>=0.6.1 in /usr/local/lib/python3.6/dist-packages (from category_encoders) (0.8.0)\n",
            "Requirement already satisfied: python-dateutil>=2 in /usr/local/lib/python3.6/dist-packages (from pandas>=0.20.1->category_encoders) (2.5.3)\n",
            "Requirement already satisfied: pytz>=2011k in /usr/local/lib/python3.6/dist-packages (from pandas>=0.20.1->category_encoders) (2018.9)\n",
            "Requirement already satisfied: six in /usr/local/lib/python3.6/dist-packages (from patsy>=0.4.1->category_encoders) (1.11.0)\n"
          ],
          "name": "stdout"
        }
      ]
    },
    {
      "metadata": {
        "id": "7oODo4wQAeHB",
        "colab_type": "code",
        "colab": {}
      },
      "cell_type": "code",
      "source": [
        "# Data pre-processing, Feature selection and Model selection.\n",
        "\n",
        "# Imports for pipeline\n",
        "from sklearn.pipeline import make_pipeline\n",
        "\n",
        "import category_encoders as ce\n",
        "from sklearn.preprocessing import RobustScaler\n",
        "from sklearn.feature_selection import SelectKBest, f_classif\n",
        "from sklearn.linear_model import LogisticRegression\n",
        "\n",
        "# Create pipeline\n",
        "pipeline = make_pipeline(\\\n",
        "                         ce.OneHotEncoder(use_cat_names=True),\n",
        "                         RobustScaler(),\n",
        "                         SelectKBest(f_classif),\n",
        "                         LogisticRegression(multi_class='multinomial',\n",
        "                                            solver='saga'))"
      ],
      "execution_count": 0,
      "outputs": []
    },
    {
      "metadata": {
        "id": "7AdDebvFBaVK",
        "colab_type": "code",
        "colab": {}
      },
      "cell_type": "code",
      "source": [
        "# Model validation.\n",
        "from sklearn.model_selection import GridSearchCV\n",
        "\n",
        "param_grid = {\n",
        "    'selectkbest__k': range(1, len(X_train.columns)+1),\n",
        "    'logisticregression__class_weight': [None,'balanced']\n",
        "}\n",
        "\n",
        "gridsearch = GridSearchCV(pipeline, param_grid=param_grid, cv=3,\n",
        "                         scoring='accuracy', verbose=1)\n",
        "\n",
        "gridsearch.fit(X_train, y_train)"
      ],
      "execution_count": 0,
      "outputs": []
    },
    {
      "metadata": {
        "id": "HtodYt1IBjYx",
        "colab_type": "code",
        "colab": {
          "base_uri": "https://localhost:8080/",
          "height": 90
        },
        "outputId": "0448a3e1-ecb5-4ba3-f93a-a4d27d799f6d"
      },
      "cell_type": "code",
      "source": [
        "# Interpret the results.\n",
        "\n",
        "# Best cross validation score\n",
        "print('Cross Validation Score:', gridsearch.best_score_)\n",
        "\n",
        "# Best parameters which resulted in the best score\n",
        "print('Best Parameters:', gridsearch.best_params_)\n",
        "\n",
        "\"\"\"# Which features were selected?\n",
        "selector = gridsearch.best_estimator_.named_steps['selectkbest']\n",
        "all_names = X_train.columns\n",
        "selected_mask = selector.get_support()\n",
        "selected_names = all_names[selected_mask]\n",
        "unselected_names = all_names[~selected_mask]\n",
        "\n",
        "print('Features selected:')\n",
        "for name in selected_names:\n",
        "    print(name)\n",
        "\n",
        "print()\n",
        "print('Features not selected:')\n",
        "for name in unselected_names:\n",
        "    print(name)\"\"\""
      ],
      "execution_count": 20,
      "outputs": [
        {
          "output_type": "stream",
          "text": [
            "Cross Validation Score: 0.7127497194163861\n",
            "Best Parameters: {'logisticregression__class_weight': None, 'selectkbest__k': 31}\n"
          ],
          "name": "stdout"
        },
        {
          "output_type": "execute_result",
          "data": {
            "text/plain": [
              "\"# Which features were selected?\\nselector = gridsearch.best_estimator_.named_steps['selectkbest']\\nall_names = X_train.columns\\nselected_mask = selector.get_support()\\nselected_names = all_names[selected_mask]\\nunselected_names = all_names[~selected_mask]\\n\\nprint('Features selected:')\\nfor name in selected_names:\\n    print(name)\\n\\nprint()\\nprint('Features not selected:')\\nfor name in unselected_names:\\n    print(name)\""
            ]
          },
          "metadata": {
            "tags": []
          },
          "execution_count": 20
        }
      ]
    },
    {
      "metadata": {
        "id": "1eyyuTNqFGEy",
        "colab_type": "code",
        "colab": {
          "base_uri": "https://localhost:8080/",
          "height": 34
        },
        "outputId": "1353e544-48a8-4aea-d6f6-d165239631e0"
      },
      "cell_type": "code",
      "source": [
        "#Get the best model and check it against test data set.\n",
        "\n",
        "# Predict with X_test features\n",
        "y_pred = gridsearch.predict(X_test)\n",
        "\n",
        "# Compare predictions to y_test labels\n",
        "test_score = accuracy_score(y_test, y_pred)\n",
        "print('Accuracy Score on test data set:', test_score)"
      ],
      "execution_count": 22,
      "outputs": [
        {
          "output_type": "stream",
          "text": [
            "Accuracy Score on test data set: 0.708013468013468\n"
          ],
          "name": "stdout"
        }
      ]
    },
    {
      "metadata": {
        "id": "94Gynag7FRHj",
        "colab_type": "code",
        "colab": {}
      },
      "cell_type": "code",
      "source": [
        "test_features_df = pd.read_csv('test_features.csv', na_values=nan_values_list)\n",
        "\n",
        "# Iteration 1\n",
        "# X_submission = test_features_df.select_dtypes(include=np.number)\n",
        "\n",
        "\n",
        "# Iteration 2\n",
        "X_submission = test_features_df.drop(columns =['id', 'date_recorded', \n",
        "                                                   'funder', 'installer', \n",
        "                                                   'wpt_name', 'subvillage', \n",
        "                                                   'ward', 'scheme_name'])\n",
        "\n",
        "# Predict with X_submission features\n",
        "y_submission = gridsearch.predict(X_submission)\n",
        "\n",
        "y_submission_df = pd.DataFrame(y_submission, columns=['status_group'])\n",
        "output_for_submission = test_features_df.join(y_submission_df).loc[:, ['id','status_group']]"
      ],
      "execution_count": 0,
      "outputs": []
    },
    {
      "metadata": {
        "id": "dcreiBd9ThGg",
        "colab_type": "code",
        "colab": {
          "base_uri": "https://localhost:8080/",
          "height": 199
        },
        "outputId": "99d0e89f-2ae7-41d8-ac73-11469fd38ff8"
      },
      "cell_type": "code",
      "source": [
        "output_for_submission.head()"
      ],
      "execution_count": 25,
      "outputs": [
        {
          "output_type": "execute_result",
          "data": {
            "text/html": [
              "<div>\n",
              "<style scoped>\n",
              "    .dataframe tbody tr th:only-of-type {\n",
              "        vertical-align: middle;\n",
              "    }\n",
              "\n",
              "    .dataframe tbody tr th {\n",
              "        vertical-align: top;\n",
              "    }\n",
              "\n",
              "    .dataframe thead th {\n",
              "        text-align: right;\n",
              "    }\n",
              "</style>\n",
              "<table border=\"1\" class=\"dataframe\">\n",
              "  <thead>\n",
              "    <tr style=\"text-align: right;\">\n",
              "      <th></th>\n",
              "      <th>id</th>\n",
              "      <th>status_group</th>\n",
              "    </tr>\n",
              "  </thead>\n",
              "  <tbody>\n",
              "    <tr>\n",
              "      <th>0</th>\n",
              "      <td>50785</td>\n",
              "      <td>non functional</td>\n",
              "    </tr>\n",
              "    <tr>\n",
              "      <th>1</th>\n",
              "      <td>51630</td>\n",
              "      <td>functional</td>\n",
              "    </tr>\n",
              "    <tr>\n",
              "      <th>2</th>\n",
              "      <td>17168</td>\n",
              "      <td>non functional</td>\n",
              "    </tr>\n",
              "    <tr>\n",
              "      <th>3</th>\n",
              "      <td>45559</td>\n",
              "      <td>non functional</td>\n",
              "    </tr>\n",
              "    <tr>\n",
              "      <th>4</th>\n",
              "      <td>49871</td>\n",
              "      <td>functional</td>\n",
              "    </tr>\n",
              "  </tbody>\n",
              "</table>\n",
              "</div>"
            ],
            "text/plain": [
              "      id    status_group\n",
              "0  50785  non functional\n",
              "1  51630      functional\n",
              "2  17168  non functional\n",
              "3  45559  non functional\n",
              "4  49871      functional"
            ]
          },
          "metadata": {
            "tags": []
          },
          "execution_count": 25
        }
      ]
    },
    {
      "metadata": {
        "id": "hts1QpwCGPWD",
        "colab_type": "code",
        "colab": {
          "base_uri": "https://localhost:8080/",
          "height": 105
        },
        "outputId": "11733871-a53c-402c-9ac6-924ff553f5cd"
      },
      "cell_type": "code",
      "source": [
        "print(output_for_submission.status_group.value_counts())\n",
        "print(output_for_submission.shape)\n"
      ],
      "execution_count": 29,
      "outputs": [
        {
          "output_type": "stream",
          "text": [
            "functional                 10554\n",
            "non functional              3670\n",
            "functional needs repair      134\n",
            "Name: status_group, dtype: int64\n",
            "(14358, 2)\n"
          ],
          "name": "stdout"
        }
      ]
    },
    {
      "metadata": {
        "id": "uZjPAhCFGRGj",
        "colab_type": "code",
        "colab": {}
      },
      "cell_type": "code",
      "source": [
        "print(output_for_submission.to_csv(index=False))"
      ],
      "execution_count": 0,
      "outputs": []
    }
  ]
}