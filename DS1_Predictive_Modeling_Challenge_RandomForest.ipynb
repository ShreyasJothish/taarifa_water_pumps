{
  "nbformat": 4,
  "nbformat_minor": 0,
  "metadata": {
    "colab": {
      "name": "DS1 Predictive Modeling Challenge RandomForest.ipynb",
      "version": "0.3.2",
      "provenance": [],
      "collapsed_sections": [],
      "include_colab_link": true
    },
    "kernelspec": {
      "name": "python3",
      "display_name": "Python 3"
    }
  },
  "cells": [
    {
      "cell_type": "markdown",
      "metadata": {
        "id": "view-in-github",
        "colab_type": "text"
      },
      "source": [
        "<a href=\"https://colab.research.google.com/github/ShreyasJothish/taarifa_water_pumps/blob/master/DS1_Predictive_Modeling_Challenge_RandomForest.ipynb\" target=\"_parent\"><img src=\"https://colab.research.google.com/assets/colab-badge.svg\" alt=\"Open In Colab\"/></a>"
      ]
    },
    {
      "metadata": {
        "id": "EFmO0jeY8dFj",
        "colab_type": "code",
        "outputId": "7379cc67-8b67-4502-a4b2-74d70f121f4b",
        "colab": {
          "base_uri": "https://localhost:8080/",
          "height": 609
        }
      },
      "cell_type": "code",
      "source": [
        "# Load the data from Kaggle\n",
        "!pip install kaggle\n",
        "\n",
        "# Upgrade the version of Seaborn\n",
        "!pip install -U seaborn\n",
        "\n",
        "# Install category_encoders\n",
        "!pip install category_encoders"
      ],
      "execution_count": 1,
      "outputs": [
        {
          "output_type": "stream",
          "text": [
            "Requirement already satisfied: kaggle in /usr/local/lib/python3.6/dist-packages (1.5.2)\n",
            "Requirement already satisfied: urllib3<1.23.0,>=1.15 in /usr/local/lib/python3.6/dist-packages (from kaggle) (1.22)\n",
            "Requirement already satisfied: six>=1.10 in /usr/local/lib/python3.6/dist-packages (from kaggle) (1.11.0)\n",
            "Requirement already satisfied: certifi in /usr/local/lib/python3.6/dist-packages (from kaggle) (2018.11.29)\n",
            "Requirement already satisfied: python-dateutil in /usr/local/lib/python3.6/dist-packages (from kaggle) (2.5.3)\n",
            "Requirement already satisfied: requests in /usr/local/lib/python3.6/dist-packages (from kaggle) (2.18.4)\n",
            "Requirement already satisfied: tqdm in /usr/local/lib/python3.6/dist-packages (from kaggle) (4.28.1)\n",
            "Requirement already satisfied: python-slugify in /usr/local/lib/python3.6/dist-packages (from kaggle) (2.0.1)\n",
            "Requirement already satisfied: chardet<3.1.0,>=3.0.2 in /usr/local/lib/python3.6/dist-packages (from requests->kaggle) (3.0.4)\n",
            "Requirement already satisfied: idna<2.7,>=2.5 in /usr/local/lib/python3.6/dist-packages (from requests->kaggle) (2.6)\n",
            "Requirement already satisfied: Unidecode>=0.04.16 in /usr/local/lib/python3.6/dist-packages (from python-slugify->kaggle) (1.0.23)\n",
            "Requirement already up-to-date: seaborn in /usr/local/lib/python3.6/dist-packages (0.9.0)\n",
            "Requirement already satisfied, skipping upgrade: matplotlib>=1.4.3 in /usr/local/lib/python3.6/dist-packages (from seaborn) (3.0.2)\n",
            "Requirement already satisfied, skipping upgrade: numpy>=1.9.3 in /usr/local/lib/python3.6/dist-packages (from seaborn) (1.14.6)\n",
            "Requirement already satisfied, skipping upgrade: scipy>=0.14.0 in /usr/local/lib/python3.6/dist-packages (from seaborn) (1.1.0)\n",
            "Requirement already satisfied, skipping upgrade: pandas>=0.15.2 in /usr/local/lib/python3.6/dist-packages (from seaborn) (0.22.0)\n",
            "Requirement already satisfied, skipping upgrade: pyparsing!=2.0.4,!=2.1.2,!=2.1.6,>=2.0.1 in /usr/local/lib/python3.6/dist-packages (from matplotlib>=1.4.3->seaborn) (2.3.1)\n",
            "Requirement already satisfied, skipping upgrade: cycler>=0.10 in /usr/local/lib/python3.6/dist-packages (from matplotlib>=1.4.3->seaborn) (0.10.0)\n",
            "Requirement already satisfied, skipping upgrade: python-dateutil>=2.1 in /usr/local/lib/python3.6/dist-packages (from matplotlib>=1.4.3->seaborn) (2.5.3)\n",
            "Requirement already satisfied, skipping upgrade: kiwisolver>=1.0.1 in /usr/local/lib/python3.6/dist-packages (from matplotlib>=1.4.3->seaborn) (1.0.1)\n",
            "Requirement already satisfied, skipping upgrade: pytz>=2011k in /usr/local/lib/python3.6/dist-packages (from pandas>=0.15.2->seaborn) (2018.9)\n",
            "Requirement already satisfied, skipping upgrade: six in /usr/local/lib/python3.6/dist-packages (from cycler>=0.10->matplotlib>=1.4.3->seaborn) (1.11.0)\n",
            "Requirement already satisfied, skipping upgrade: setuptools in /usr/local/lib/python3.6/dist-packages (from kiwisolver>=1.0.1->matplotlib>=1.4.3->seaborn) (40.8.0)\n",
            "Requirement already satisfied: category_encoders in /usr/local/lib/python3.6/dist-packages (1.3.0)\n",
            "Requirement already satisfied: patsy>=0.4.1 in /usr/local/lib/python3.6/dist-packages (from category_encoders) (0.5.1)\n",
            "Requirement already satisfied: scikit-learn>=0.17.1 in /usr/local/lib/python3.6/dist-packages (from category_encoders) (0.20.2)\n",
            "Requirement already satisfied: pandas>=0.20.1 in /usr/local/lib/python3.6/dist-packages (from category_encoders) (0.22.0)\n",
            "Requirement already satisfied: scipy>=0.17.0 in /usr/local/lib/python3.6/dist-packages (from category_encoders) (1.1.0)\n",
            "Requirement already satisfied: numpy>=1.11.1 in /usr/local/lib/python3.6/dist-packages (from category_encoders) (1.14.6)\n",
            "Requirement already satisfied: statsmodels>=0.6.1 in /usr/local/lib/python3.6/dist-packages (from category_encoders) (0.8.0)\n",
            "Requirement already satisfied: six in /usr/local/lib/python3.6/dist-packages (from patsy>=0.4.1->category_encoders) (1.11.0)\n",
            "Requirement already satisfied: pytz>=2011k in /usr/local/lib/python3.6/dist-packages (from pandas>=0.20.1->category_encoders) (2018.9)\n",
            "Requirement already satisfied: python-dateutil>=2 in /usr/local/lib/python3.6/dist-packages (from pandas>=0.20.1->category_encoders) (2.5.3)\n"
          ],
          "name": "stdout"
        }
      ]
    },
    {
      "metadata": {
        "id": "IkQErr7h8_aw",
        "colab_type": "code",
        "outputId": "23d76ff4-4870-4d25-b4b9-12972fcfcbe9",
        "colab": {
          "base_uri": "https://localhost:8080/",
          "height": 349
        }
      },
      "cell_type": "code",
      "source": [
        "# Mount the drive to download the data from Kaggle\n",
        "from google.colab import drive\n",
        "drive.mount('/content/drive')\n",
        "%env KAGGLE_CONFIG_DIR=/content/drive/My Drive\n",
        "\n",
        "!kaggle competitions download -c ds1-predictive-modeling-challenge"
      ],
      "execution_count": 2,
      "outputs": [
        {
          "output_type": "stream",
          "text": [
            "Go to this URL in a browser: https://accounts.google.com/o/oauth2/auth?client_id=947318989803-6bn6qk8qdgf4n4g3pfee6491hc0brc4i.apps.googleusercontent.com&redirect_uri=urn%3Aietf%3Awg%3Aoauth%3A2.0%3Aoob&scope=email%20https%3A%2F%2Fwww.googleapis.com%2Fauth%2Fdocs.test%20https%3A%2F%2Fwww.googleapis.com%2Fauth%2Fdrive%20https%3A%2F%2Fwww.googleapis.com%2Fauth%2Fdrive.photos.readonly%20https%3A%2F%2Fwww.googleapis.com%2Fauth%2Fpeopleapi.readonly&response_type=code\n",
            "\n",
            "Enter your authorization code:\n",
            "··········\n",
            "Mounted at /content/drive\n",
            "env: KAGGLE_CONFIG_DIR=/content/drive/My Drive\n",
            "Downloading sample_submission.csv to /content\n",
            "  0% 0.00/236k [00:00<?, ?B/s]\n",
            "100% 236k/236k [00:00<00:00, 35.7MB/s]\n",
            "Downloading test_features.csv.zip to /content\n",
            "  0% 0.00/948k [00:00<?, ?B/s]\n",
            "100% 948k/948k [00:00<00:00, 61.4MB/s]\n",
            "Downloading train_labels.csv.zip to /content\n",
            "  0% 0.00/211k [00:00<?, ?B/s]\n",
            "100% 211k/211k [00:00<00:00, 65.3MB/s]\n",
            "Downloading train_features.csv.zip to /content\n",
            "  0% 0.00/3.81M [00:00<?, ?B/s]\n",
            "100% 3.81M/3.81M [00:00<00:00, 125MB/s]\n"
          ],
          "name": "stdout"
        }
      ]
    },
    {
      "metadata": {
        "id": "8_qQhIIXNNzR",
        "colab_type": "code",
        "outputId": "3d3b42d6-e1a2-4f63-d107-27d9c6d107e4",
        "colab": {
          "base_uri": "https://localhost:8080/",
          "height": 121
        }
      },
      "cell_type": "code",
      "source": [
        "# Extract the csv files\n",
        "!unzip train_features.csv.zip \n",
        "!unzip train_labels.csv.zip \n",
        "!unzip test_features.csv.zip"
      ],
      "execution_count": 3,
      "outputs": [
        {
          "output_type": "stream",
          "text": [
            "Archive:  train_features.csv.zip\n",
            "  inflating: train_features.csv      \n",
            "Archive:  train_labels.csv.zip\n",
            "  inflating: train_labels.csv        \n",
            "Archive:  test_features.csv.zip\n",
            "  inflating: test_features.csv       \n"
          ],
          "name": "stdout"
        }
      ]
    },
    {
      "metadata": {
        "id": "A6yHzH9E9J8d",
        "colab_type": "code",
        "colab": {}
      },
      "cell_type": "code",
      "source": [
        "# Generic imports\n",
        "import pandas as pd\n",
        "import numpy as np\n",
        "import matplotlib.pyplot as plt\n",
        "import seaborn as sns"
      ],
      "execution_count": 0,
      "outputs": []
    },
    {
      "metadata": {
        "id": "hyAcKkIi9TLE",
        "colab_type": "code",
        "colab": {}
      },
      "cell_type": "code",
      "source": [
        "# Loading the independent features as X and\n",
        "# dependent variable as y\n",
        "nan_values_list = ['Not Known', 'Unknown', 'None', 'Not known', 'not known', \n",
        "                   '-', 'unknown', 'Unknown Installer', '##', 'none']\n",
        "\n",
        "train_features_df = pd.read_csv('train_features.csv', na_values=nan_values_list)\n",
        "train_labels_df = pd.read_csv('train_labels.csv')\n"
      ],
      "execution_count": 0,
      "outputs": []
    },
    {
      "metadata": {
        "id": "xJkIZMC898DR",
        "colab_type": "code",
        "colab": {}
      },
      "cell_type": "code",
      "source": [
        "def atleast(row, value_count_series, count=5):\n",
        "  # Identify items who have funded atleast 5 pumps\n",
        "  if str(row) == \"nan\":\n",
        "    return np.nan\n",
        "  \n",
        "  value_count = value_count_series.get(row)\n",
        "  \n",
        "  if value_count < count:\n",
        "    return 0\n",
        "  else:\n",
        "    return 1\n",
        "\n",
        "def character_grouping(row):\n",
        "  # Reduce the dimension based on 1st character else return *\n",
        "  if str(row) == \"nan\":\n",
        "    return np.nan\n",
        "  \n",
        "  if row[0].isalpha():\n",
        "    return row[0].lower()\n",
        "  else:\n",
        "    return \"*\"\n",
        "  \n",
        "def classify_lga(row):\n",
        "  # Classify lga into Rural, Urban and others\n",
        "  if str(row) == \"nan\":\n",
        "    return np.nan\n",
        "  \n",
        "  if row.lower().find('rural'):\n",
        "    return \"rural\"\n",
        "  elif row.lower().find('urban'):\n",
        "    return \"urban\"\n",
        "  else:\n",
        "    return \"other\"\n",
        "  \n",
        "def prefix_grouping(row, prefix_count=3):\n",
        "  # Reduce the dimension based on 1st character else return *\n",
        "  if str(row) == \"nan\":\n",
        "    return np.nan\n",
        "  \n",
        "  if prefix_count > len(row):\n",
        "    return \"#\"\n",
        "  \n",
        "  if row[0:prefix_count].isalpha():\n",
        "    return row[0:prefix_count].lower()\n",
        "  else:\n",
        "    return \"*\"\n",
        "  \n",
        "def map_ward_construction_year(input_df):\n",
        "  # Map ward to construction year\n",
        "  \n",
        "  # Here train_features_df shall be used as reference for\n",
        "  # both trainging and test data set.\n",
        "  df = input_df.copy()\n",
        "  \n",
        "  ward_construction_year_dict = {}\n",
        "  ward_list = df['ward'].unique()\n",
        " \n",
        "  # top ward's construction year shall be used incase there is no\n",
        "  # matching construction year for individual ward.  \n",
        "  top_ward = df['ward'].describe().top\n",
        "  top_ward_construction_year =  \\\n",
        "    int(df[df['ward'] == top_ward]['construction_year'].median())\n",
        "\n",
        "  for ward in ward_list:\n",
        "    ward_construction_year = \\\n",
        "      int(df[df['ward'] == ward]['construction_year'].median())\n",
        "    \n",
        "    if ward not in ward_construction_year_dict:\\\n",
        "      \n",
        "      if ward_construction_year == 0:\n",
        "        ward_construction_year_dict[ward] = top_ward_construction_year\n",
        "      else:\n",
        "        ward_construction_year_dict[ward] = ward_construction_year\n",
        "  \n",
        "  return ward_construction_year_dict\n",
        "\n",
        "\n",
        "def compute_construction_year(row, ward_construction_year_dict, \n",
        "                              top_ward_construction_year):\n",
        "  # compute the consturction year if it is 0  \n",
        "  ward = row['ward']\n",
        "  construction_year = row['construction_year']  \n",
        "  \n",
        "  if construction_year == 0:\n",
        "    if ward in ward_construction_year_dict:\n",
        "      return ward_construction_year_dict[ward]\n",
        "    else:\n",
        "      return top_ward_construction_year\n",
        "  else:\n",
        "    return construction_year\n",
        "\n",
        "\n",
        "def compute_age(row):\n",
        "  # compute the consturction age\n",
        "  date_recorded = row['date_recorded']\n",
        "  year_recorded = int(date_recorded.split('-')[0])\n",
        "  \n",
        "  construction_year = row['construction_year']\n",
        "  \n",
        "  return (year_recorded - construction_year)\n",
        "\n",
        "\n",
        "def compute_year_recorded(row):\n",
        "  # split year from date_recorded\n",
        "  return int(row.split('-')[0])\n",
        "\n",
        "def compute_month_recorded(row):\n",
        "  # split year from date_recorded\n",
        "  return int(row.split('-')[1])"
      ],
      "execution_count": 0,
      "outputs": []
    },
    {
      "metadata": {
        "id": "yWE7Uq5H-F7Z",
        "colab_type": "code",
        "colab": {}
      },
      "cell_type": "code",
      "source": [
        "def feature_engineering(df):\n",
        "  # Create a column to indicate funder with atleast 5 pumps maintained.\n",
        "  value_count_funder = df.funder.value_counts()\n",
        "  df['funder_aleast_5'] = df['funder'].apply(atleast, \n",
        "                                            args=(value_count_funder,))\n",
        "  \n",
        "  # Create a column to indicate installer with atleast 5 pumps maintained.\n",
        "  value_count_installer = df.installer.value_counts()\n",
        "  df['installer_aleast_5'] = df['installer'].apply(atleast, \n",
        "                                            args=(value_count_installer,))\n",
        "  \n",
        "  # Apply mean for missing values of latitude and longitude\n",
        "  mean_longitude = df['longitude'].mean()\n",
        "  df['longitude'] = df['longitude'].apply(lambda x: mean_longitude if round(x, 2) == 0 else x)\n",
        "  mean_latitude = df['latitude'].mean()\n",
        "  df['latitude'] = df['latitude'].apply(lambda x: mean_latitude if round(x, 2) == 0 else x)\n",
        "  \n",
        "  # Grouping wpt_name, subvillage based on 1st alphabet\n",
        "  df['wpt_name_character_grouping'] = df['wpt_name'].apply(character_grouping)\n",
        "  df['subvillage_character_grouping'] = df['subvillage'].apply(character_grouping)\n",
        "  \n",
        "  # Classify lga based on Rural, Urban and others\n",
        "  df['lga_engineered'] = df['lga'].apply(classify_lga)\n",
        "  \n",
        "  # Grouping ward, scheme_name based on 1st alphabet\n",
        "  df['ward_character_grouping'] = df['ward'].apply(character_grouping)\n",
        "  df['scheme_name_character_grouping'] = df['scheme_name'].apply(character_grouping)\n",
        "  \n",
        "  # Grouping based on prefix\n",
        "  df['funder_prefix_grouping'] = df['funder'].apply(prefix_grouping)\n",
        "  df['installer_prefix_grouping'] = df['installer'].apply(prefix_grouping)\n",
        "  df['wpt_name_prefix_grouping'] = df['wpt_name'].apply(prefix_grouping)\n",
        "  df['subvillage_prefix_grouping'] = df['subvillage'].apply(prefix_grouping)\n",
        "  df['lga_prefix_grouping'] = df['lga'].apply(prefix_grouping)\n",
        "  df['ward_prefix_grouping'] = df['ward'].apply(prefix_grouping)\n",
        "  df['scheme_name_prefix_grouping'] = df['scheme_name'].apply(prefix_grouping)\n",
        "  \n",
        "  # Compute missing construction year\n",
        "  ward_construction_year_dict = map_ward_construction_year(df)\n",
        "  top_ward = df['ward'].describe().top\n",
        "  top_ward_construction_year =  \\\n",
        "    int(df[df['ward'] == top_ward]['construction_year'].median())\n",
        "  \n",
        "  df['construction_year'] = df.apply(compute_construction_year, axis=1, \n",
        "                                     args=(ward_construction_year_dict,\n",
        "                                          top_ward_construction_year,))\n",
        "  \n",
        "  # Compute age of well\n",
        "  df['age'] = df.apply(compute_age, axis=1)\n",
        "  \n",
        "  # Fetch Year and Month of date recorded\n",
        "  df['year_recorded'] = df['date_recorded'].apply(compute_year_recorded)\n",
        "  df['month_recorded'] = df['date_recorded'].apply(compute_month_recorded)\n",
        "  \n",
        "  df.select_dtypes(include=np.number).isnull().sum()\n",
        "  \n",
        "  for col in df.select_dtypes(include=np.number).columns:\n",
        "    if df[col].isnull().sum() > 0:\n",
        "      df[col].fillna(df[col].mean(), inplace=True)\n",
        "\n",
        "\n",
        "feature_engineering(train_features_df)"
      ],
      "execution_count": 0,
      "outputs": []
    },
    {
      "metadata": {
        "id": "mG4VyQIT9gIe",
        "colab_type": "code",
        "colab": {}
      },
      "cell_type": "code",
      "source": [
        "# Selecting independent and dependent variables.\n",
        "\n",
        "X = train_features_df.drop(columns=['id', 'funder', 'installer', 'wpt_name', \n",
        "                                    'subvillage', 'lga','ward','scheme_name'])\n",
        "y = train_labels_df.status_group"
      ],
      "execution_count": 0,
      "outputs": []
    },
    {
      "metadata": {
        "id": "MN2TBHsWvGgT",
        "colab_type": "code",
        "outputId": "ac16f2b3-5c77-4a04-fbcb-dd2c138f8e39",
        "colab": {
          "base_uri": "https://localhost:8080/",
          "height": 413
        }
      },
      "cell_type": "code",
      "source": [
        "pd.set_option('display.max_columns', None)\n",
        "train_features_df.head()"
      ],
      "execution_count": 78,
      "outputs": [
        {
          "output_type": "execute_result",
          "data": {
            "text/html": [
              "<div>\n",
              "<style scoped>\n",
              "    .dataframe tbody tr th:only-of-type {\n",
              "        vertical-align: middle;\n",
              "    }\n",
              "\n",
              "    .dataframe tbody tr th {\n",
              "        vertical-align: top;\n",
              "    }\n",
              "\n",
              "    .dataframe thead th {\n",
              "        text-align: right;\n",
              "    }\n",
              "</style>\n",
              "<table border=\"1\" class=\"dataframe\">\n",
              "  <thead>\n",
              "    <tr style=\"text-align: right;\">\n",
              "      <th></th>\n",
              "      <th>id</th>\n",
              "      <th>amount_tsh</th>\n",
              "      <th>date_recorded</th>\n",
              "      <th>funder</th>\n",
              "      <th>gps_height</th>\n",
              "      <th>installer</th>\n",
              "      <th>longitude</th>\n",
              "      <th>latitude</th>\n",
              "      <th>wpt_name</th>\n",
              "      <th>num_private</th>\n",
              "      <th>basin</th>\n",
              "      <th>subvillage</th>\n",
              "      <th>region</th>\n",
              "      <th>region_code</th>\n",
              "      <th>district_code</th>\n",
              "      <th>lga</th>\n",
              "      <th>ward</th>\n",
              "      <th>population</th>\n",
              "      <th>public_meeting</th>\n",
              "      <th>recorded_by</th>\n",
              "      <th>scheme_management</th>\n",
              "      <th>scheme_name</th>\n",
              "      <th>permit</th>\n",
              "      <th>construction_year</th>\n",
              "      <th>extraction_type</th>\n",
              "      <th>extraction_type_group</th>\n",
              "      <th>extraction_type_class</th>\n",
              "      <th>management</th>\n",
              "      <th>management_group</th>\n",
              "      <th>payment</th>\n",
              "      <th>payment_type</th>\n",
              "      <th>water_quality</th>\n",
              "      <th>quality_group</th>\n",
              "      <th>quantity</th>\n",
              "      <th>quantity_group</th>\n",
              "      <th>source</th>\n",
              "      <th>source_type</th>\n",
              "      <th>source_class</th>\n",
              "      <th>waterpoint_type</th>\n",
              "      <th>waterpoint_type_group</th>\n",
              "      <th>funder_aleast_5</th>\n",
              "      <th>installer_aleast_5</th>\n",
              "      <th>wpt_name_character_grouping</th>\n",
              "      <th>subvillage_character_grouping</th>\n",
              "      <th>lga_engineered</th>\n",
              "      <th>ward_character_grouping</th>\n",
              "      <th>scheme_name_character_grouping</th>\n",
              "      <th>funder_prefix_grouping</th>\n",
              "      <th>installer_prefix_grouping</th>\n",
              "      <th>wpt_name_prefix_grouping</th>\n",
              "      <th>subvillage_prefix_grouping</th>\n",
              "      <th>lga_prefix_grouping</th>\n",
              "      <th>ward_prefix_grouping</th>\n",
              "      <th>scheme_name_prefix_grouping</th>\n",
              "      <th>age</th>\n",
              "      <th>year_recorded</th>\n",
              "      <th>month_recorded</th>\n",
              "    </tr>\n",
              "  </thead>\n",
              "  <tbody>\n",
              "    <tr>\n",
              "      <th>0</th>\n",
              "      <td>69572</td>\n",
              "      <td>6000.0</td>\n",
              "      <td>2011-03-14</td>\n",
              "      <td>Roman</td>\n",
              "      <td>1390</td>\n",
              "      <td>Roman</td>\n",
              "      <td>34.938093</td>\n",
              "      <td>-9.856322</td>\n",
              "      <td>NaN</td>\n",
              "      <td>0</td>\n",
              "      <td>Lake Nyasa</td>\n",
              "      <td>Mnyusi B</td>\n",
              "      <td>Iringa</td>\n",
              "      <td>11</td>\n",
              "      <td>5</td>\n",
              "      <td>Ludewa</td>\n",
              "      <td>Mundindi</td>\n",
              "      <td>109</td>\n",
              "      <td>True</td>\n",
              "      <td>GeoData Consultants Ltd</td>\n",
              "      <td>VWC</td>\n",
              "      <td>Roman</td>\n",
              "      <td>False</td>\n",
              "      <td>1999</td>\n",
              "      <td>gravity</td>\n",
              "      <td>gravity</td>\n",
              "      <td>gravity</td>\n",
              "      <td>vwc</td>\n",
              "      <td>user-group</td>\n",
              "      <td>pay annually</td>\n",
              "      <td>annually</td>\n",
              "      <td>soft</td>\n",
              "      <td>good</td>\n",
              "      <td>enough</td>\n",
              "      <td>enough</td>\n",
              "      <td>spring</td>\n",
              "      <td>spring</td>\n",
              "      <td>groundwater</td>\n",
              "      <td>communal standpipe</td>\n",
              "      <td>communal standpipe</td>\n",
              "      <td>1.0</td>\n",
              "      <td>1.0</td>\n",
              "      <td>NaN</td>\n",
              "      <td>m</td>\n",
              "      <td>rural</td>\n",
              "      <td>m</td>\n",
              "      <td>r</td>\n",
              "      <td>rom</td>\n",
              "      <td>rom</td>\n",
              "      <td>NaN</td>\n",
              "      <td>mny</td>\n",
              "      <td>lud</td>\n",
              "      <td>mun</td>\n",
              "      <td>rom</td>\n",
              "      <td>12</td>\n",
              "      <td>2011</td>\n",
              "      <td>3</td>\n",
              "    </tr>\n",
              "    <tr>\n",
              "      <th>1</th>\n",
              "      <td>8776</td>\n",
              "      <td>0.0</td>\n",
              "      <td>2013-03-06</td>\n",
              "      <td>Grumeti</td>\n",
              "      <td>1399</td>\n",
              "      <td>GRUMETI</td>\n",
              "      <td>34.698766</td>\n",
              "      <td>-2.147466</td>\n",
              "      <td>Zahanati</td>\n",
              "      <td>0</td>\n",
              "      <td>Lake Victoria</td>\n",
              "      <td>Nyamara</td>\n",
              "      <td>Mara</td>\n",
              "      <td>20</td>\n",
              "      <td>2</td>\n",
              "      <td>Serengeti</td>\n",
              "      <td>Natta</td>\n",
              "      <td>280</td>\n",
              "      <td>NaN</td>\n",
              "      <td>GeoData Consultants Ltd</td>\n",
              "      <td>Other</td>\n",
              "      <td>NaN</td>\n",
              "      <td>True</td>\n",
              "      <td>2010</td>\n",
              "      <td>gravity</td>\n",
              "      <td>gravity</td>\n",
              "      <td>gravity</td>\n",
              "      <td>wug</td>\n",
              "      <td>user-group</td>\n",
              "      <td>never pay</td>\n",
              "      <td>never pay</td>\n",
              "      <td>soft</td>\n",
              "      <td>good</td>\n",
              "      <td>insufficient</td>\n",
              "      <td>insufficient</td>\n",
              "      <td>rainwater harvesting</td>\n",
              "      <td>rainwater harvesting</td>\n",
              "      <td>surface</td>\n",
              "      <td>communal standpipe</td>\n",
              "      <td>communal standpipe</td>\n",
              "      <td>1.0</td>\n",
              "      <td>1.0</td>\n",
              "      <td>z</td>\n",
              "      <td>n</td>\n",
              "      <td>rural</td>\n",
              "      <td>n</td>\n",
              "      <td>NaN</td>\n",
              "      <td>gru</td>\n",
              "      <td>gru</td>\n",
              "      <td>zah</td>\n",
              "      <td>nya</td>\n",
              "      <td>ser</td>\n",
              "      <td>nat</td>\n",
              "      <td>NaN</td>\n",
              "      <td>3</td>\n",
              "      <td>2013</td>\n",
              "      <td>3</td>\n",
              "    </tr>\n",
              "    <tr>\n",
              "      <th>2</th>\n",
              "      <td>34310</td>\n",
              "      <td>25.0</td>\n",
              "      <td>2013-02-25</td>\n",
              "      <td>Lottery Club</td>\n",
              "      <td>686</td>\n",
              "      <td>World vision</td>\n",
              "      <td>37.460664</td>\n",
              "      <td>-3.821329</td>\n",
              "      <td>Kwa Mahundi</td>\n",
              "      <td>0</td>\n",
              "      <td>Pangani</td>\n",
              "      <td>Majengo</td>\n",
              "      <td>Manyara</td>\n",
              "      <td>21</td>\n",
              "      <td>4</td>\n",
              "      <td>Simanjiro</td>\n",
              "      <td>Ngorika</td>\n",
              "      <td>250</td>\n",
              "      <td>True</td>\n",
              "      <td>GeoData Consultants Ltd</td>\n",
              "      <td>VWC</td>\n",
              "      <td>Nyumba ya mungu pipe scheme</td>\n",
              "      <td>True</td>\n",
              "      <td>2009</td>\n",
              "      <td>gravity</td>\n",
              "      <td>gravity</td>\n",
              "      <td>gravity</td>\n",
              "      <td>vwc</td>\n",
              "      <td>user-group</td>\n",
              "      <td>pay per bucket</td>\n",
              "      <td>per bucket</td>\n",
              "      <td>soft</td>\n",
              "      <td>good</td>\n",
              "      <td>enough</td>\n",
              "      <td>enough</td>\n",
              "      <td>dam</td>\n",
              "      <td>dam</td>\n",
              "      <td>surface</td>\n",
              "      <td>communal standpipe multiple</td>\n",
              "      <td>communal standpipe</td>\n",
              "      <td>1.0</td>\n",
              "      <td>1.0</td>\n",
              "      <td>k</td>\n",
              "      <td>m</td>\n",
              "      <td>rural</td>\n",
              "      <td>n</td>\n",
              "      <td>n</td>\n",
              "      <td>lot</td>\n",
              "      <td>wor</td>\n",
              "      <td>kwa</td>\n",
              "      <td>maj</td>\n",
              "      <td>sim</td>\n",
              "      <td>ngo</td>\n",
              "      <td>nyu</td>\n",
              "      <td>4</td>\n",
              "      <td>2013</td>\n",
              "      <td>2</td>\n",
              "    </tr>\n",
              "    <tr>\n",
              "      <th>3</th>\n",
              "      <td>67743</td>\n",
              "      <td>0.0</td>\n",
              "      <td>2013-01-28</td>\n",
              "      <td>Unicef</td>\n",
              "      <td>263</td>\n",
              "      <td>UNICEF</td>\n",
              "      <td>38.486161</td>\n",
              "      <td>-11.155298</td>\n",
              "      <td>Zahanati Ya Nanyumbu</td>\n",
              "      <td>0</td>\n",
              "      <td>Ruvuma / Southern Coast</td>\n",
              "      <td>Mahakamani</td>\n",
              "      <td>Mtwara</td>\n",
              "      <td>90</td>\n",
              "      <td>63</td>\n",
              "      <td>Nanyumbu</td>\n",
              "      <td>Nanyumbu</td>\n",
              "      <td>58</td>\n",
              "      <td>True</td>\n",
              "      <td>GeoData Consultants Ltd</td>\n",
              "      <td>VWC</td>\n",
              "      <td>NaN</td>\n",
              "      <td>True</td>\n",
              "      <td>1986</td>\n",
              "      <td>submersible</td>\n",
              "      <td>submersible</td>\n",
              "      <td>submersible</td>\n",
              "      <td>vwc</td>\n",
              "      <td>user-group</td>\n",
              "      <td>never pay</td>\n",
              "      <td>never pay</td>\n",
              "      <td>soft</td>\n",
              "      <td>good</td>\n",
              "      <td>dry</td>\n",
              "      <td>dry</td>\n",
              "      <td>machine dbh</td>\n",
              "      <td>borehole</td>\n",
              "      <td>groundwater</td>\n",
              "      <td>communal standpipe multiple</td>\n",
              "      <td>communal standpipe</td>\n",
              "      <td>1.0</td>\n",
              "      <td>1.0</td>\n",
              "      <td>z</td>\n",
              "      <td>m</td>\n",
              "      <td>rural</td>\n",
              "      <td>n</td>\n",
              "      <td>NaN</td>\n",
              "      <td>uni</td>\n",
              "      <td>uni</td>\n",
              "      <td>zah</td>\n",
              "      <td>mah</td>\n",
              "      <td>nan</td>\n",
              "      <td>nan</td>\n",
              "      <td>NaN</td>\n",
              "      <td>27</td>\n",
              "      <td>2013</td>\n",
              "      <td>1</td>\n",
              "    </tr>\n",
              "    <tr>\n",
              "      <th>4</th>\n",
              "      <td>19728</td>\n",
              "      <td>0.0</td>\n",
              "      <td>2011-07-13</td>\n",
              "      <td>Action In A</td>\n",
              "      <td>0</td>\n",
              "      <td>Artisan</td>\n",
              "      <td>31.130847</td>\n",
              "      <td>-1.825359</td>\n",
              "      <td>Shuleni</td>\n",
              "      <td>0</td>\n",
              "      <td>Lake Victoria</td>\n",
              "      <td>Kyanyamisa</td>\n",
              "      <td>Kagera</td>\n",
              "      <td>18</td>\n",
              "      <td>1</td>\n",
              "      <td>Karagwe</td>\n",
              "      <td>Nyakasimbi</td>\n",
              "      <td>0</td>\n",
              "      <td>True</td>\n",
              "      <td>GeoData Consultants Ltd</td>\n",
              "      <td>NaN</td>\n",
              "      <td>NaN</td>\n",
              "      <td>True</td>\n",
              "      <td>2004</td>\n",
              "      <td>gravity</td>\n",
              "      <td>gravity</td>\n",
              "      <td>gravity</td>\n",
              "      <td>other</td>\n",
              "      <td>other</td>\n",
              "      <td>never pay</td>\n",
              "      <td>never pay</td>\n",
              "      <td>soft</td>\n",
              "      <td>good</td>\n",
              "      <td>seasonal</td>\n",
              "      <td>seasonal</td>\n",
              "      <td>rainwater harvesting</td>\n",
              "      <td>rainwater harvesting</td>\n",
              "      <td>surface</td>\n",
              "      <td>communal standpipe</td>\n",
              "      <td>communal standpipe</td>\n",
              "      <td>0.0</td>\n",
              "      <td>1.0</td>\n",
              "      <td>s</td>\n",
              "      <td>k</td>\n",
              "      <td>rural</td>\n",
              "      <td>n</td>\n",
              "      <td>NaN</td>\n",
              "      <td>act</td>\n",
              "      <td>art</td>\n",
              "      <td>shu</td>\n",
              "      <td>kya</td>\n",
              "      <td>kar</td>\n",
              "      <td>nya</td>\n",
              "      <td>NaN</td>\n",
              "      <td>7</td>\n",
              "      <td>2011</td>\n",
              "      <td>7</td>\n",
              "    </tr>\n",
              "  </tbody>\n",
              "</table>\n",
              "</div>"
            ],
            "text/plain": [
              "      id  amount_tsh date_recorded        funder  gps_height     installer  \\\n",
              "0  69572      6000.0    2011-03-14         Roman        1390         Roman   \n",
              "1   8776         0.0    2013-03-06       Grumeti        1399       GRUMETI   \n",
              "2  34310        25.0    2013-02-25  Lottery Club         686  World vision   \n",
              "3  67743         0.0    2013-01-28        Unicef         263        UNICEF   \n",
              "4  19728         0.0    2011-07-13   Action In A           0       Artisan   \n",
              "\n",
              "   longitude   latitude              wpt_name  num_private  \\\n",
              "0  34.938093  -9.856322                   NaN            0   \n",
              "1  34.698766  -2.147466              Zahanati            0   \n",
              "2  37.460664  -3.821329           Kwa Mahundi            0   \n",
              "3  38.486161 -11.155298  Zahanati Ya Nanyumbu            0   \n",
              "4  31.130847  -1.825359               Shuleni            0   \n",
              "\n",
              "                     basin  subvillage   region  region_code  district_code  \\\n",
              "0               Lake Nyasa    Mnyusi B   Iringa           11              5   \n",
              "1            Lake Victoria     Nyamara     Mara           20              2   \n",
              "2                  Pangani     Majengo  Manyara           21              4   \n",
              "3  Ruvuma / Southern Coast  Mahakamani   Mtwara           90             63   \n",
              "4            Lake Victoria  Kyanyamisa   Kagera           18              1   \n",
              "\n",
              "         lga        ward  population public_meeting              recorded_by  \\\n",
              "0     Ludewa    Mundindi         109           True  GeoData Consultants Ltd   \n",
              "1  Serengeti       Natta         280            NaN  GeoData Consultants Ltd   \n",
              "2  Simanjiro     Ngorika         250           True  GeoData Consultants Ltd   \n",
              "3   Nanyumbu    Nanyumbu          58           True  GeoData Consultants Ltd   \n",
              "4    Karagwe  Nyakasimbi           0           True  GeoData Consultants Ltd   \n",
              "\n",
              "  scheme_management                  scheme_name permit  construction_year  \\\n",
              "0               VWC                        Roman  False               1999   \n",
              "1             Other                          NaN   True               2010   \n",
              "2               VWC  Nyumba ya mungu pipe scheme   True               2009   \n",
              "3               VWC                          NaN   True               1986   \n",
              "4               NaN                          NaN   True               2004   \n",
              "\n",
              "  extraction_type extraction_type_group extraction_type_class management  \\\n",
              "0         gravity               gravity               gravity        vwc   \n",
              "1         gravity               gravity               gravity        wug   \n",
              "2         gravity               gravity               gravity        vwc   \n",
              "3     submersible           submersible           submersible        vwc   \n",
              "4         gravity               gravity               gravity      other   \n",
              "\n",
              "  management_group         payment payment_type water_quality quality_group  \\\n",
              "0       user-group    pay annually     annually          soft          good   \n",
              "1       user-group       never pay    never pay          soft          good   \n",
              "2       user-group  pay per bucket   per bucket          soft          good   \n",
              "3       user-group       never pay    never pay          soft          good   \n",
              "4            other       never pay    never pay          soft          good   \n",
              "\n",
              "       quantity quantity_group                source           source_type  \\\n",
              "0        enough         enough                spring                spring   \n",
              "1  insufficient   insufficient  rainwater harvesting  rainwater harvesting   \n",
              "2        enough         enough                   dam                   dam   \n",
              "3           dry            dry           machine dbh              borehole   \n",
              "4      seasonal       seasonal  rainwater harvesting  rainwater harvesting   \n",
              "\n",
              "  source_class              waterpoint_type waterpoint_type_group  \\\n",
              "0  groundwater           communal standpipe    communal standpipe   \n",
              "1      surface           communal standpipe    communal standpipe   \n",
              "2      surface  communal standpipe multiple    communal standpipe   \n",
              "3  groundwater  communal standpipe multiple    communal standpipe   \n",
              "4      surface           communal standpipe    communal standpipe   \n",
              "\n",
              "   funder_aleast_5  installer_aleast_5 wpt_name_character_grouping  \\\n",
              "0              1.0                 1.0                         NaN   \n",
              "1              1.0                 1.0                           z   \n",
              "2              1.0                 1.0                           k   \n",
              "3              1.0                 1.0                           z   \n",
              "4              0.0                 1.0                           s   \n",
              "\n",
              "  subvillage_character_grouping lga_engineered ward_character_grouping  \\\n",
              "0                             m          rural                       m   \n",
              "1                             n          rural                       n   \n",
              "2                             m          rural                       n   \n",
              "3                             m          rural                       n   \n",
              "4                             k          rural                       n   \n",
              "\n",
              "  scheme_name_character_grouping funder_prefix_grouping  \\\n",
              "0                              r                    rom   \n",
              "1                            NaN                    gru   \n",
              "2                              n                    lot   \n",
              "3                            NaN                    uni   \n",
              "4                            NaN                    act   \n",
              "\n",
              "  installer_prefix_grouping wpt_name_prefix_grouping  \\\n",
              "0                       rom                      NaN   \n",
              "1                       gru                      zah   \n",
              "2                       wor                      kwa   \n",
              "3                       uni                      zah   \n",
              "4                       art                      shu   \n",
              "\n",
              "  subvillage_prefix_grouping lga_prefix_grouping ward_prefix_grouping  \\\n",
              "0                        mny                 lud                  mun   \n",
              "1                        nya                 ser                  nat   \n",
              "2                        maj                 sim                  ngo   \n",
              "3                        mah                 nan                  nan   \n",
              "4                        kya                 kar                  nya   \n",
              "\n",
              "  scheme_name_prefix_grouping  age  year_recorded  month_recorded  \n",
              "0                         rom   12           2011               3  \n",
              "1                         NaN    3           2013               3  \n",
              "2                         nyu    4           2013               2  \n",
              "3                         NaN   27           2013               1  \n",
              "4                         NaN    7           2011               7  "
            ]
          },
          "metadata": {
            "tags": []
          },
          "execution_count": 78
        }
      ]
    },
    {
      "metadata": {
        "id": "UTozD9Pf_8ZH",
        "colab_type": "code",
        "colab": {}
      },
      "cell_type": "code",
      "source": [
        "# Split data into train and test using k-fold cross-validation\n",
        "# with independent test data set.\n",
        "from sklearn.model_selection import train_test_split\n",
        "\n",
        "X_train, X_test, y_train, y_test = train_test_split(X, y, \n",
        "                                                    test_size=0.25,\n",
        "                                                    shuffle=True,\n",
        "                                                    random_state=42\n",
        "                                                   )"
      ],
      "execution_count": 0,
      "outputs": []
    },
    {
      "metadata": {
        "id": "Ikns6JusrwOW",
        "colab_type": "code",
        "outputId": "262d119a-5d26-4120-a32d-ac21d585401c",
        "colab": {
          "base_uri": "https://localhost:8080/",
          "height": 104
        }
      },
      "cell_type": "code",
      "source": [
        "# Get quick initial metrics estimate.\n",
        "\n",
        "# Using sklearn accuracy_score\n",
        "import numpy as np\n",
        "from sklearn.metrics import accuracy_score\n",
        "\n",
        "majority_class = y_train.mode()[0]\n",
        "prediction = np.full(shape=y_train.shape, \n",
        "                     fill_value=majority_class)\n",
        "\n",
        "print(f'accuracy score {accuracy_score(y_train, prediction)}')\n",
        "\n",
        "\n",
        "# Using simple pandas value counts method\n",
        "print(y_train.value_counts(normalize=True))"
      ],
      "execution_count": 80,
      "outputs": [
        {
          "output_type": "stream",
          "text": [
            "accuracy score 0.542334455667789\n",
            "functional                 0.542334\n",
            "non functional             0.384871\n",
            "functional needs repair    0.072795\n",
            "Name: status_group, dtype: float64\n"
          ],
          "name": "stdout"
        }
      ]
    },
    {
      "metadata": {
        "id": "8HifL8OexTSs",
        "colab_type": "code",
        "colab": {}
      },
      "cell_type": "code",
      "source": [
        "# Data pre-processing, Feature selection and Model selection.\n",
        "\n",
        "# Imports for pipeline\n",
        "from sklearn.pipeline import make_pipeline\n",
        "\n",
        "import category_encoders as ce\n",
        "from sklearn.preprocessing import RobustScaler\n",
        "from sklearn.ensemble import RandomForestClassifier\n",
        "from sklearn.model_selection import GridSearchCV"
      ],
      "execution_count": 0,
      "outputs": []
    },
    {
      "metadata": {
        "id": "_FUTW1lf94_m",
        "colab_type": "code",
        "colab": {}
      },
      "cell_type": "code",
      "source": [
        "# Create pipeline\n",
        "pipeline = make_pipeline(\\\n",
        "                         ce.BinaryEncoder(),\n",
        "                         RobustScaler(),\n",
        "                         RandomForestClassifier(n_estimators=200,\n",
        "                                                class_weight=None,\n",
        "                                               n_jobs=-1))"
      ],
      "execution_count": 0,
      "outputs": []
    },
    {
      "metadata": {
        "id": "LOhMkTAy99Ge",
        "colab_type": "code",
        "colab": {
          "base_uri": "https://localhost:8080/",
          "height": 5601
        },
        "outputId": "fa290cda-2940-4514-ee3d-4c7978a7046f"
      },
      "cell_type": "code",
      "source": [
        "# Model validation. \n",
        "\n",
        "param_grid = {\n",
        "    'randomforestclassifier__max_depth': [5, 6, 7],\n",
        "    'randomforestclassifier__min_samples_split': [2, 3, 4],\n",
        "    'randomforestclassifier__min_samples_leaf': [1, 2, 3, 4],\n",
        "    'randomforestclassifier__max_features': ['auto', 'log2']\n",
        "}\n",
        "\n",
        "gridsearch = GridSearchCV(pipeline, param_grid=param_grid, cv=2, \n",
        "                         scoring='accuracy', verbose=20)\n",
        "\n",
        "gridsearch.fit(X_train, y_train)"
      ],
      "execution_count": 100,
      "outputs": [
        {
          "output_type": "stream",
          "text": [
            "Fitting 2 folds for each of 72 candidates, totalling 144 fits\n",
            "[CV] randomforestclassifier__max_depth=5, randomforestclassifier__max_features=auto, randomforestclassifier__min_samples_leaf=1, randomforestclassifier__min_samples_split=2 \n"
          ],
          "name": "stdout"
        },
        {
          "output_type": "stream",
          "text": [
            "[Parallel(n_jobs=1)]: Using backend SequentialBackend with 1 concurrent workers.\n"
          ],
          "name": "stderr"
        },
        {
          "output_type": "stream",
          "text": [
            "[CV]  randomforestclassifier__max_depth=5, randomforestclassifier__max_features=auto, randomforestclassifier__min_samples_leaf=1, randomforestclassifier__min_samples_split=2, score=0.7176333273478183, total=   7.8s\n",
            "[CV] randomforestclassifier__max_depth=5, randomforestclassifier__max_features=auto, randomforestclassifier__min_samples_leaf=1, randomforestclassifier__min_samples_split=2 \n"
          ],
          "name": "stdout"
        },
        {
          "output_type": "stream",
          "text": [
            "[Parallel(n_jobs=1)]: Done   1 out of   1 | elapsed:    9.5s remaining:    0.0s\n"
          ],
          "name": "stderr"
        },
        {
          "output_type": "stream",
          "text": [
            "[CV]  randomforestclassifier__max_depth=5, randomforestclassifier__max_features=auto, randomforestclassifier__min_samples_leaf=1, randomforestclassifier__min_samples_split=2, score=0.71783245039059, total=   6.7s\n",
            "[CV] randomforestclassifier__max_depth=5, randomforestclassifier__max_features=auto, randomforestclassifier__min_samples_leaf=1, randomforestclassifier__min_samples_split=3 \n"
          ],
          "name": "stdout"
        },
        {
          "output_type": "stream",
          "text": [
            "[Parallel(n_jobs=1)]: Done   2 out of   2 | elapsed:   18.0s remaining:    0.0s\n"
          ],
          "name": "stderr"
        },
        {
          "output_type": "stream",
          "text": [
            "[CV]  randomforestclassifier__max_depth=5, randomforestclassifier__max_features=auto, randomforestclassifier__min_samples_leaf=1, randomforestclassifier__min_samples_split=3, score=0.7165559346381756, total=   6.4s\n",
            "[CV] randomforestclassifier__max_depth=5, randomforestclassifier__max_features=auto, randomforestclassifier__min_samples_leaf=1, randomforestclassifier__min_samples_split=3 \n"
          ],
          "name": "stdout"
        },
        {
          "output_type": "stream",
          "text": [
            "[Parallel(n_jobs=1)]: Done   3 out of   3 | elapsed:   26.3s remaining:    0.0s\n"
          ],
          "name": "stderr"
        },
        {
          "output_type": "stream",
          "text": [
            "[CV]  randomforestclassifier__max_depth=5, randomforestclassifier__max_features=auto, randomforestclassifier__min_samples_leaf=1, randomforestclassifier__min_samples_split=3, score=0.7169345425159379, total=   6.9s\n",
            "[CV] randomforestclassifier__max_depth=5, randomforestclassifier__max_features=auto, randomforestclassifier__min_samples_leaf=1, randomforestclassifier__min_samples_split=4 \n"
          ],
          "name": "stdout"
        },
        {
          "output_type": "stream",
          "text": [
            "[Parallel(n_jobs=1)]: Done   4 out of   4 | elapsed:   35.1s remaining:    0.0s\n"
          ],
          "name": "stderr"
        },
        {
          "output_type": "stream",
          "text": [
            "[CV]  randomforestclassifier__max_depth=5, randomforestclassifier__max_features=auto, randomforestclassifier__min_samples_leaf=1, randomforestclassifier__min_samples_split=4, score=0.7178128927994254, total=   6.5s\n",
            "[CV] randomforestclassifier__max_depth=5, randomforestclassifier__max_features=auto, randomforestclassifier__min_samples_leaf=1, randomforestclassifier__min_samples_split=4 \n"
          ],
          "name": "stdout"
        },
        {
          "output_type": "stream",
          "text": [
            "[Parallel(n_jobs=1)]: Done   5 out of   5 | elapsed:   43.2s remaining:    0.0s\n"
          ],
          "name": "stderr"
        },
        {
          "output_type": "stream",
          "text": [
            "[CV]  randomforestclassifier__max_depth=5, randomforestclassifier__max_features=auto, randomforestclassifier__min_samples_leaf=1, randomforestclassifier__min_samples_split=4, score=0.7183711951153812, total=   6.5s\n",
            "[CV] randomforestclassifier__max_depth=5, randomforestclassifier__max_features=auto, randomforestclassifier__min_samples_leaf=2, randomforestclassifier__min_samples_split=2 \n"
          ],
          "name": "stdout"
        },
        {
          "output_type": "stream",
          "text": [
            "[Parallel(n_jobs=1)]: Done   6 out of   6 | elapsed:   51.4s remaining:    0.0s\n"
          ],
          "name": "stderr"
        },
        {
          "output_type": "stream",
          "text": [
            "[CV]  randomforestclassifier__max_depth=5, randomforestclassifier__max_features=auto, randomforestclassifier__min_samples_leaf=2, randomforestclassifier__min_samples_split=2, score=0.7174537618962111, total=   6.7s\n",
            "[CV] randomforestclassifier__max_depth=5, randomforestclassifier__max_features=auto, randomforestclassifier__min_samples_leaf=2, randomforestclassifier__min_samples_split=2 \n"
          ],
          "name": "stdout"
        },
        {
          "output_type": "stream",
          "text": [
            "[Parallel(n_jobs=1)]: Done   7 out of   7 | elapsed:  1.0min remaining:    0.0s\n"
          ],
          "name": "stderr"
        },
        {
          "output_type": "stream",
          "text": [
            "[CV]  randomforestclassifier__max_depth=5, randomforestclassifier__max_features=auto, randomforestclassifier__min_samples_leaf=2, randomforestclassifier__min_samples_split=2, score=0.7155427853102272, total=   6.6s\n",
            "[CV] randomforestclassifier__max_depth=5, randomforestclassifier__max_features=auto, randomforestclassifier__min_samples_leaf=2, randomforestclassifier__min_samples_split=3 \n"
          ],
          "name": "stdout"
        },
        {
          "output_type": "stream",
          "text": [
            "[Parallel(n_jobs=1)]: Done   8 out of   8 | elapsed:  1.1min remaining:    0.0s\n"
          ],
          "name": "stderr"
        },
        {
          "output_type": "stream",
          "text": [
            "[CV]  randomforestclassifier__max_depth=5, randomforestclassifier__max_features=auto, randomforestclassifier__min_samples_leaf=2, randomforestclassifier__min_samples_split=3, score=0.7181720237026397, total=   6.6s\n",
            "[CV] randomforestclassifier__max_depth=5, randomforestclassifier__max_features=auto, randomforestclassifier__min_samples_leaf=2, randomforestclassifier__min_samples_split=3 \n"
          ],
          "name": "stdout"
        },
        {
          "output_type": "stream",
          "text": [
            "[Parallel(n_jobs=1)]: Done   9 out of   9 | elapsed:  1.3min remaining:    0.0s\n"
          ],
          "name": "stderr"
        },
        {
          "output_type": "stream",
          "text": [
            "[CV]  randomforestclassifier__max_depth=5, randomforestclassifier__max_features=auto, randomforestclassifier__min_samples_leaf=2, randomforestclassifier__min_samples_split=3, score=0.7172039148783335, total=   6.6s\n",
            "[CV] randomforestclassifier__max_depth=5, randomforestclassifier__max_features=auto, randomforestclassifier__min_samples_leaf=2, randomforestclassifier__min_samples_split=4 \n"
          ],
          "name": "stdout"
        },
        {
          "output_type": "stream",
          "text": [
            "[Parallel(n_jobs=1)]: Done  10 out of  10 | elapsed:  1.4min remaining:    0.0s\n"
          ],
          "name": "stderr"
        },
        {
          "output_type": "stream",
          "text": [
            "[CV]  randomforestclassifier__max_depth=5, randomforestclassifier__max_features=auto, randomforestclassifier__min_samples_leaf=2, randomforestclassifier__min_samples_split=4, score=0.7188453941461663, total=   6.6s\n",
            "[CV] randomforestclassifier__max_depth=5, randomforestclassifier__max_features=auto, randomforestclassifier__min_samples_leaf=2, randomforestclassifier__min_samples_split=4 \n"
          ],
          "name": "stdout"
        },
        {
          "output_type": "stream",
          "text": [
            "[Parallel(n_jobs=1)]: Done  11 out of  11 | elapsed:  1.6min remaining:    0.0s\n"
          ],
          "name": "stderr"
        },
        {
          "output_type": "stream",
          "text": [
            "[CV]  randomforestclassifier__max_depth=5, randomforestclassifier__max_features=auto, randomforestclassifier__min_samples_leaf=2, randomforestclassifier__min_samples_split=4, score=0.7174732872407291, total=   6.6s\n",
            "[CV] randomforestclassifier__max_depth=5, randomforestclassifier__max_features=auto, randomforestclassifier__min_samples_leaf=3, randomforestclassifier__min_samples_split=2 \n"
          ],
          "name": "stdout"
        },
        {
          "output_type": "stream",
          "text": [
            "[Parallel(n_jobs=1)]: Done  12 out of  12 | elapsed:  1.7min remaining:    0.0s\n"
          ],
          "name": "stderr"
        },
        {
          "output_type": "stream",
          "text": [
            "[CV]  randomforestclassifier__max_depth=5, randomforestclassifier__max_features=auto, randomforestclassifier__min_samples_leaf=3, randomforestclassifier__min_samples_split=2, score=0.7168252828155863, total=   6.6s\n",
            "[CV] randomforestclassifier__max_depth=5, randomforestclassifier__max_features=auto, randomforestclassifier__min_samples_leaf=3, randomforestclassifier__min_samples_split=2 \n"
          ],
          "name": "stdout"
        },
        {
          "output_type": "stream",
          "text": [
            "[Parallel(n_jobs=1)]: Done  13 out of  13 | elapsed:  1.8min remaining:    0.0s\n"
          ],
          "name": "stderr"
        },
        {
          "output_type": "stream",
          "text": [
            "[CV]  randomforestclassifier__max_depth=5, randomforestclassifier__max_features=auto, randomforestclassifier__min_samples_leaf=3, randomforestclassifier__min_samples_split=2, score=0.717607973421927, total=   6.7s\n",
            "[CV] randomforestclassifier__max_depth=5, randomforestclassifier__max_features=auto, randomforestclassifier__min_samples_leaf=3, randomforestclassifier__min_samples_split=3 \n"
          ],
          "name": "stdout"
        },
        {
          "output_type": "stream",
          "text": [
            "[Parallel(n_jobs=1)]: Done  14 out of  14 | elapsed:  2.0min remaining:    0.0s\n"
          ],
          "name": "stderr"
        },
        {
          "output_type": "stream",
          "text": [
            "[CV]  randomforestclassifier__max_depth=5, randomforestclassifier__max_features=auto, randomforestclassifier__min_samples_leaf=3, randomforestclassifier__min_samples_split=3, score=0.7190249595977733, total=   6.7s\n",
            "[CV] randomforestclassifier__max_depth=5, randomforestclassifier__max_features=auto, randomforestclassifier__min_samples_leaf=3, randomforestclassifier__min_samples_split=3 \n"
          ],
          "name": "stdout"
        },
        {
          "output_type": "stream",
          "text": [
            "[Parallel(n_jobs=1)]: Done  15 out of  15 | elapsed:  2.1min remaining:    0.0s\n"
          ],
          "name": "stderr"
        },
        {
          "output_type": "stream",
          "text": [
            "[CV]  randomforestclassifier__max_depth=5, randomforestclassifier__max_features=auto, randomforestclassifier__min_samples_leaf=3, randomforestclassifier__min_samples_split=3, score=0.7171590194846009, total=   6.5s\n",
            "[CV] randomforestclassifier__max_depth=5, randomforestclassifier__max_features=auto, randomforestclassifier__min_samples_leaf=3, randomforestclassifier__min_samples_split=4 \n"
          ],
          "name": "stdout"
        },
        {
          "output_type": "stream",
          "text": [
            "[Parallel(n_jobs=1)]: Done  16 out of  16 | elapsed:  2.3min remaining:    0.0s\n"
          ],
          "name": "stderr"
        },
        {
          "output_type": "stream",
          "text": [
            "[CV]  randomforestclassifier__max_depth=5, randomforestclassifier__max_features=auto, randomforestclassifier__min_samples_leaf=3, randomforestclassifier__min_samples_split=4, score=0.718710720057461, total=   6.5s\n",
            "[CV] randomforestclassifier__max_depth=5, randomforestclassifier__max_features=auto, randomforestclassifier__min_samples_leaf=3, randomforestclassifier__min_samples_split=4 \n"
          ],
          "name": "stdout"
        },
        {
          "output_type": "stream",
          "text": [
            "[Parallel(n_jobs=1)]: Done  17 out of  17 | elapsed:  2.4min remaining:    0.0s\n"
          ],
          "name": "stderr"
        },
        {
          "output_type": "stream",
          "text": [
            "[CV]  randomforestclassifier__max_depth=5, randomforestclassifier__max_features=auto, randomforestclassifier__min_samples_leaf=3, randomforestclassifier__min_samples_split=4, score=0.7163957977911466, total=   6.6s\n",
            "[CV] randomforestclassifier__max_depth=5, randomforestclassifier__max_features=auto, randomforestclassifier__min_samples_leaf=4, randomforestclassifier__min_samples_split=2 \n"
          ],
          "name": "stdout"
        },
        {
          "output_type": "stream",
          "text": [
            "[Parallel(n_jobs=1)]: Done  18 out of  18 | elapsed:  2.5min remaining:    0.0s\n"
          ],
          "name": "stderr"
        },
        {
          "output_type": "stream",
          "text": [
            "[CV]  randomforestclassifier__max_depth=5, randomforestclassifier__max_features=auto, randomforestclassifier__min_samples_leaf=4, randomforestclassifier__min_samples_split=2, score=0.7183964805171486, total=   6.6s\n",
            "[CV] randomforestclassifier__max_depth=5, randomforestclassifier__max_features=auto, randomforestclassifier__min_samples_leaf=4, randomforestclassifier__min_samples_split=2 \n"
          ],
          "name": "stdout"
        },
        {
          "output_type": "stream",
          "text": [
            "[Parallel(n_jobs=1)]: Done  19 out of  19 | elapsed:  2.7min remaining:    0.0s\n"
          ],
          "name": "stderr"
        },
        {
          "output_type": "stream",
          "text": [
            "[CV]  randomforestclassifier__max_depth=5, randomforestclassifier__max_features=auto, randomforestclassifier__min_samples_leaf=4, randomforestclassifier__min_samples_split=2, score=0.7167998563347401, total=   6.6s\n",
            "[CV] randomforestclassifier__max_depth=5, randomforestclassifier__max_features=auto, randomforestclassifier__min_samples_leaf=4, randomforestclassifier__min_samples_split=3 \n",
            "[CV]  randomforestclassifier__max_depth=5, randomforestclassifier__max_features=auto, randomforestclassifier__min_samples_leaf=4, randomforestclassifier__min_samples_split=3, score=0.719518764589693, total=   6.6s\n",
            "[CV] randomforestclassifier__max_depth=5, randomforestclassifier__max_features=auto, randomforestclassifier__min_samples_leaf=4, randomforestclassifier__min_samples_split=3 \n",
            "[CV]  randomforestclassifier__max_depth=5, randomforestclassifier__max_features=auto, randomforestclassifier__min_samples_leaf=4, randomforestclassifier__min_samples_split=3, score=0.7190895214151029, total=   6.9s\n",
            "[CV] randomforestclassifier__max_depth=5, randomforestclassifier__max_features=auto, randomforestclassifier__min_samples_leaf=4, randomforestclassifier__min_samples_split=4 \n",
            "[CV]  randomforestclassifier__max_depth=5, randomforestclassifier__max_features=auto, randomforestclassifier__min_samples_leaf=4, randomforestclassifier__min_samples_split=4, score=0.7186658286945592, total=   6.9s\n",
            "[CV] randomforestclassifier__max_depth=5, randomforestclassifier__max_features=auto, randomforestclassifier__min_samples_leaf=4, randomforestclassifier__min_samples_split=4 \n",
            "[CV]  randomforestclassifier__max_depth=5, randomforestclassifier__max_features=auto, randomforestclassifier__min_samples_leaf=4, randomforestclassifier__min_samples_split=4, score=0.7162611116099488, total=   6.6s\n",
            "[CV] randomforestclassifier__max_depth=5, randomforestclassifier__max_features=log2, randomforestclassifier__min_samples_leaf=1, randomforestclassifier__min_samples_split=2 \n",
            "[CV]  randomforestclassifier__max_depth=5, randomforestclassifier__max_features=log2, randomforestclassifier__min_samples_leaf=1, randomforestclassifier__min_samples_split=2, score=0.7150296282995152, total=   5.5s\n",
            "[CV] randomforestclassifier__max_depth=5, randomforestclassifier__max_features=log2, randomforestclassifier__min_samples_leaf=1, randomforestclassifier__min_samples_split=2 \n",
            "[CV]  randomforestclassifier__max_depth=5, randomforestclassifier__max_features=log2, randomforestclassifier__min_samples_leaf=1, randomforestclassifier__min_samples_split=2, score=0.7136571787734578, total=   5.5s\n",
            "[CV] randomforestclassifier__max_depth=5, randomforestclassifier__max_features=log2, randomforestclassifier__min_samples_leaf=1, randomforestclassifier__min_samples_split=3 \n",
            "[CV]  randomforestclassifier__max_depth=5, randomforestclassifier__max_features=log2, randomforestclassifier__min_samples_leaf=1, randomforestclassifier__min_samples_split=3, score=0.7152540851140241, total=   5.4s\n",
            "[CV] randomforestclassifier__max_depth=5, randomforestclassifier__max_features=log2, randomforestclassifier__min_samples_leaf=1, randomforestclassifier__min_samples_split=3 \n",
            "[CV]  randomforestclassifier__max_depth=5, randomforestclassifier__max_features=log2, randomforestclassifier__min_samples_leaf=1, randomforestclassifier__min_samples_split=3, score=0.7139714465295861, total=   5.5s\n",
            "[CV] randomforestclassifier__max_depth=5, randomforestclassifier__max_features=log2, randomforestclassifier__min_samples_leaf=1, randomforestclassifier__min_samples_split=4 \n",
            "[CV]  randomforestclassifier__max_depth=5, randomforestclassifier__max_features=log2, randomforestclassifier__min_samples_leaf=1, randomforestclassifier__min_samples_split=4, score=0.7161519123720597, total=   5.4s\n",
            "[CV] randomforestclassifier__max_depth=5, randomforestclassifier__max_features=log2, randomforestclassifier__min_samples_leaf=1, randomforestclassifier__min_samples_split=4 \n",
            "[CV]  randomforestclassifier__max_depth=5, randomforestclassifier__max_features=log2, randomforestclassifier__min_samples_leaf=1, randomforestclassifier__min_samples_split=4, score=0.7134775971985274, total=   5.6s\n",
            "[CV] randomforestclassifier__max_depth=5, randomforestclassifier__max_features=log2, randomforestclassifier__min_samples_leaf=2, randomforestclassifier__min_samples_split=2 \n",
            "[CV]  randomforestclassifier__max_depth=5, randomforestclassifier__max_features=log2, randomforestclassifier__min_samples_leaf=2, randomforestclassifier__min_samples_split=2, score=0.7159723469204525, total=   5.6s\n",
            "[CV] randomforestclassifier__max_depth=5, randomforestclassifier__max_features=log2, randomforestclassifier__min_samples_leaf=2, randomforestclassifier__min_samples_split=2 \n",
            "[CV]  randomforestclassifier__max_depth=5, randomforestclassifier__max_features=log2, randomforestclassifier__min_samples_leaf=2, randomforestclassifier__min_samples_split=2, score=0.7135224925922601, total=   5.6s\n",
            "[CV] randomforestclassifier__max_depth=5, randomforestclassifier__max_features=log2, randomforestclassifier__min_samples_leaf=2, randomforestclassifier__min_samples_split=3 \n",
            "[CV]  randomforestclassifier__max_depth=5, randomforestclassifier__max_features=log2, randomforestclassifier__min_samples_leaf=2, randomforestclassifier__min_samples_split=3, score=0.7151194110253187, total=   5.5s\n",
            "[CV] randomforestclassifier__max_depth=5, randomforestclassifier__max_features=log2, randomforestclassifier__min_samples_leaf=2, randomforestclassifier__min_samples_split=3 \n",
            "[CV]  randomforestclassifier__max_depth=5, randomforestclassifier__max_features=log2, randomforestclassifier__min_samples_leaf=2, randomforestclassifier__min_samples_split=3, score=0.7133878064110623, total=   5.5s\n",
            "[CV] randomforestclassifier__max_depth=5, randomforestclassifier__max_features=log2, randomforestclassifier__min_samples_leaf=2, randomforestclassifier__min_samples_split=4 \n",
            "[CV]  randomforestclassifier__max_depth=5, randomforestclassifier__max_features=log2, randomforestclassifier__min_samples_leaf=2, randomforestclassifier__min_samples_split=4, score=0.7140869096785778, total=   5.5s\n",
            "[CV] randomforestclassifier__max_depth=5, randomforestclassifier__max_features=log2, randomforestclassifier__min_samples_leaf=2, randomforestclassifier__min_samples_split=4 \n",
            "[CV]  randomforestclassifier__max_depth=5, randomforestclassifier__max_features=log2, randomforestclassifier__min_samples_leaf=2, randomforestclassifier__min_samples_split=4, score=0.7126245847176079, total=   5.5s\n",
            "[CV] randomforestclassifier__max_depth=5, randomforestclassifier__max_features=log2, randomforestclassifier__min_samples_leaf=3, randomforestclassifier__min_samples_split=2 \n",
            "[CV]  randomforestclassifier__max_depth=5, randomforestclassifier__max_features=log2, randomforestclassifier__min_samples_leaf=3, randomforestclassifier__min_samples_split=2, score=0.7127850601544263, total=   5.6s\n",
            "[CV] randomforestclassifier__max_depth=5, randomforestclassifier__max_features=log2, randomforestclassifier__min_samples_leaf=3, randomforestclassifier__min_samples_split=2 \n",
            "[CV]  randomforestclassifier__max_depth=5, randomforestclassifier__max_features=log2, randomforestclassifier__min_samples_leaf=3, randomforestclassifier__min_samples_split=2, score=0.7148693544042382, total=   5.5s\n",
            "[CV] randomforestclassifier__max_depth=5, randomforestclassifier__max_features=log2, randomforestclassifier__min_samples_leaf=3, randomforestclassifier__min_samples_split=3 \n",
            "[CV]  randomforestclassifier__max_depth=5, randomforestclassifier__max_features=log2, randomforestclassifier__min_samples_leaf=3, randomforestclassifier__min_samples_split=3, score=0.7129646256060334, total=   5.6s\n",
            "[CV] randomforestclassifier__max_depth=5, randomforestclassifier__max_features=log2, randomforestclassifier__min_samples_leaf=3, randomforestclassifier__min_samples_split=3 \n",
            "[CV]  randomforestclassifier__max_depth=5, randomforestclassifier__max_features=log2, randomforestclassifier__min_samples_leaf=3, randomforestclassifier__min_samples_split=3, score=0.7123103169614797, total=   5.6s\n",
            "[CV] randomforestclassifier__max_depth=5, randomforestclassifier__max_features=log2, randomforestclassifier__min_samples_leaf=3, randomforestclassifier__min_samples_split=4 \n",
            "[CV]  randomforestclassifier__max_depth=5, randomforestclassifier__max_features=log2, randomforestclassifier__min_samples_leaf=3, randomforestclassifier__min_samples_split=4, score=0.7168252828155863, total=   5.4s\n",
            "[CV] randomforestclassifier__max_depth=5, randomforestclassifier__max_features=log2, randomforestclassifier__min_samples_leaf=3, randomforestclassifier__min_samples_split=4 \n",
            "[CV]  randomforestclassifier__max_depth=5, randomforestclassifier__max_features=log2, randomforestclassifier__min_samples_leaf=3, randomforestclassifier__min_samples_split=4, score=0.7114573044805603, total=   5.6s\n",
            "[CV] randomforestclassifier__max_depth=5, randomforestclassifier__max_features=log2, randomforestclassifier__min_samples_leaf=4, randomforestclassifier__min_samples_split=2 \n",
            "[CV]  randomforestclassifier__max_depth=5, randomforestclassifier__max_features=log2, randomforestclassifier__min_samples_leaf=4, randomforestclassifier__min_samples_split=2, score=0.7156132160172383, total=   5.6s\n",
            "[CV] randomforestclassifier__max_depth=5, randomforestclassifier__max_features=log2, randomforestclassifier__min_samples_leaf=4, randomforestclassifier__min_samples_split=2 \n",
            "[CV]  randomforestclassifier__max_depth=5, randomforestclassifier__max_features=log2, randomforestclassifier__min_samples_leaf=4, randomforestclassifier__min_samples_split=2, score=0.7108287689683038, total=   5.5s\n",
            "[CV] randomforestclassifier__max_depth=5, randomforestclassifier__max_features=log2, randomforestclassifier__min_samples_leaf=4, randomforestclassifier__min_samples_split=3 \n",
            "[CV]  randomforestclassifier__max_depth=5, randomforestclassifier__max_features=log2, randomforestclassifier__min_samples_leaf=4, randomforestclassifier__min_samples_split=3, score=0.7161968037349614, total=   5.6s\n",
            "[CV] randomforestclassifier__max_depth=5, randomforestclassifier__max_features=log2, randomforestclassifier__min_samples_leaf=4, randomforestclassifier__min_samples_split=3 \n",
            "[CV]  randomforestclassifier__max_depth=5, randomforestclassifier__max_features=log2, randomforestclassifier__min_samples_leaf=4, randomforestclassifier__min_samples_split=3, score=0.7128939570800036, total=   5.6s\n",
            "[CV] randomforestclassifier__max_depth=5, randomforestclassifier__max_features=log2, randomforestclassifier__min_samples_leaf=4, randomforestclassifier__min_samples_split=4 \n",
            "[CV]  randomforestclassifier__max_depth=5, randomforestclassifier__max_features=log2, randomforestclassifier__min_samples_leaf=4, randomforestclassifier__min_samples_split=4, score=0.7150296282995152, total=   5.5s\n",
            "[CV] randomforestclassifier__max_depth=5, randomforestclassifier__max_features=log2, randomforestclassifier__min_samples_leaf=4, randomforestclassifier__min_samples_split=4 \n",
            "[CV]  randomforestclassifier__max_depth=5, randomforestclassifier__max_features=log2, randomforestclassifier__min_samples_leaf=4, randomforestclassifier__min_samples_split=4, score=0.7139265511358535, total=   5.5s\n",
            "[CV] randomforestclassifier__max_depth=6, randomforestclassifier__max_features=auto, randomforestclassifier__min_samples_leaf=1, randomforestclassifier__min_samples_split=2 \n",
            "[CV]  randomforestclassifier__max_depth=6, randomforestclassifier__max_features=auto, randomforestclassifier__min_samples_leaf=1, randomforestclassifier__min_samples_split=2, score=0.7262973603878614, total=   7.2s\n",
            "[CV] randomforestclassifier__max_depth=6, randomforestclassifier__max_features=auto, randomforestclassifier__min_samples_leaf=1, randomforestclassifier__min_samples_split=2 \n",
            "[CV]  randomforestclassifier__max_depth=6, randomforestclassifier__max_features=auto, randomforestclassifier__min_samples_leaf=1, randomforestclassifier__min_samples_split=2, score=0.7245667594504804, total=   7.3s\n",
            "[CV] randomforestclassifier__max_depth=6, randomforestclassifier__max_features=auto, randomforestclassifier__min_samples_leaf=1, randomforestclassifier__min_samples_split=3 \n",
            "[CV]  randomforestclassifier__max_depth=6, randomforestclassifier__max_features=auto, randomforestclassifier__min_samples_leaf=1, randomforestclassifier__min_samples_split=3, score=0.7254444244927276, total=   7.1s\n",
            "[CV] randomforestclassifier__max_depth=6, randomforestclassifier__max_features=auto, randomforestclassifier__min_samples_leaf=1, randomforestclassifier__min_samples_split=3 \n",
            "[CV]  randomforestclassifier__max_depth=6, randomforestclassifier__max_features=auto, randomforestclassifier__min_samples_leaf=1, randomforestclassifier__min_samples_split=3, score=0.725958516656191, total=   7.3s\n",
            "[CV] randomforestclassifier__max_depth=6, randomforestclassifier__max_features=auto, randomforestclassifier__min_samples_leaf=1, randomforestclassifier__min_samples_split=4 \n",
            "[CV]  randomforestclassifier__max_depth=6, randomforestclassifier__max_features=auto, randomforestclassifier__min_samples_leaf=1, randomforestclassifier__min_samples_split=4, score=0.7263871431136649, total=   9.9s\n",
            "[CV] randomforestclassifier__max_depth=6, randomforestclassifier__max_features=auto, randomforestclassifier__min_samples_leaf=1, randomforestclassifier__min_samples_split=4 \n",
            "[CV]  randomforestclassifier__max_depth=6, randomforestclassifier__max_features=auto, randomforestclassifier__min_samples_leaf=1, randomforestclassifier__min_samples_split=4, score=0.722681152913711, total=   8.1s\n",
            "[CV] randomforestclassifier__max_depth=6, randomforestclassifier__max_features=auto, randomforestclassifier__min_samples_leaf=2, randomforestclassifier__min_samples_split=2 \n",
            "[CV]  randomforestclassifier__max_depth=6, randomforestclassifier__max_features=auto, randomforestclassifier__min_samples_leaf=2, randomforestclassifier__min_samples_split=2, score=0.7263871431136649, total=   7.3s\n",
            "[CV] randomforestclassifier__max_depth=6, randomforestclassifier__max_features=auto, randomforestclassifier__min_samples_leaf=2, randomforestclassifier__min_samples_split=2 \n",
            "[CV]  randomforestclassifier__max_depth=6, randomforestclassifier__max_features=auto, randomforestclassifier__min_samples_leaf=2, randomforestclassifier__min_samples_split=2, score=0.7249708179940738, total=   7.4s\n",
            "[CV] randomforestclassifier__max_depth=6, randomforestclassifier__max_features=auto, randomforestclassifier__min_samples_leaf=2, randomforestclassifier__min_samples_split=3 \n",
            "[CV]  randomforestclassifier__max_depth=6, randomforestclassifier__max_features=auto, randomforestclassifier__min_samples_leaf=2, randomforestclassifier__min_samples_split=3, score=0.7258035553959418, total=   7.6s\n",
            "[CV] randomforestclassifier__max_depth=6, randomforestclassifier__max_features=auto, randomforestclassifier__min_samples_leaf=2, randomforestclassifier__min_samples_split=3 \n",
            "[CV]  randomforestclassifier__max_depth=6, randomforestclassifier__max_features=auto, randomforestclassifier__min_samples_leaf=2, randomforestclassifier__min_samples_split=3, score=0.7245667594504804, total=  10.5s\n",
            "[CV] randomforestclassifier__max_depth=6, randomforestclassifier__max_features=auto, randomforestclassifier__min_samples_leaf=2, randomforestclassifier__min_samples_split=4 \n",
            "[CV]  randomforestclassifier__max_depth=6, randomforestclassifier__max_features=auto, randomforestclassifier__min_samples_leaf=2, randomforestclassifier__min_samples_split=4, score=0.7241874663314778, total=  10.5s\n",
            "[CV] randomforestclassifier__max_depth=6, randomforestclassifier__max_features=auto, randomforestclassifier__min_samples_leaf=2, randomforestclassifier__min_samples_split=4 \n",
            "[CV]  randomforestclassifier__max_depth=6, randomforestclassifier__max_features=auto, randomforestclassifier__min_samples_leaf=2, randomforestclassifier__min_samples_split=4, score=0.7248810272066086, total=   9.4s\n",
            "[CV] randomforestclassifier__max_depth=6, randomforestclassifier__max_features=auto, randomforestclassifier__min_samples_leaf=3, randomforestclassifier__min_samples_split=2 \n",
            "[CV]  randomforestclassifier__max_depth=6, randomforestclassifier__max_features=auto, randomforestclassifier__min_samples_leaf=3, randomforestclassifier__min_samples_split=2, score=0.725175076315317, total=   7.0s\n",
            "[CV] randomforestclassifier__max_depth=6, randomforestclassifier__max_features=auto, randomforestclassifier__min_samples_leaf=3, randomforestclassifier__min_samples_split=2 \n",
            "[CV]  randomforestclassifier__max_depth=6, randomforestclassifier__max_features=auto, randomforestclassifier__min_samples_leaf=3, randomforestclassifier__min_samples_split=2, score=0.7252401903564695, total=   7.5s\n",
            "[CV] randomforestclassifier__max_depth=6, randomforestclassifier__max_features=auto, randomforestclassifier__min_samples_leaf=3, randomforestclassifier__min_samples_split=3 \n",
            "[CV]  randomforestclassifier__max_depth=6, randomforestclassifier__max_features=auto, randomforestclassifier__min_samples_leaf=3, randomforestclassifier__min_samples_split=3, score=0.7240079008798707, total=   7.1s\n",
            "[CV] randomforestclassifier__max_depth=6, randomforestclassifier__max_features=auto, randomforestclassifier__min_samples_leaf=3, randomforestclassifier__min_samples_split=3 \n",
            "[CV]  randomforestclassifier__max_depth=6, randomforestclassifier__max_features=auto, randomforestclassifier__min_samples_leaf=3, randomforestclassifier__min_samples_split=3, score=0.7259136212624585, total=   7.1s\n",
            "[CV] randomforestclassifier__max_depth=6, randomforestclassifier__max_features=auto, randomforestclassifier__min_samples_leaf=3, randomforestclassifier__min_samples_split=4 \n",
            "[CV]  randomforestclassifier__max_depth=6, randomforestclassifier__max_features=auto, randomforestclassifier__min_samples_leaf=3, randomforestclassifier__min_samples_split=4, score=0.725175076315317, total=   7.2s\n",
            "[CV] randomforestclassifier__max_depth=6, randomforestclassifier__max_features=auto, randomforestclassifier__min_samples_leaf=3, randomforestclassifier__min_samples_split=4 \n",
            "[CV]  randomforestclassifier__max_depth=6, randomforestclassifier__max_features=auto, randomforestclassifier__min_samples_leaf=3, randomforestclassifier__min_samples_split=4, score=0.7263625751997845, total=   9.0s\n",
            "[CV] randomforestclassifier__max_depth=6, randomforestclassifier__max_features=auto, randomforestclassifier__min_samples_leaf=4, randomforestclassifier__min_samples_split=2 \n",
            "[CV]  randomforestclassifier__max_depth=6, randomforestclassifier__max_features=auto, randomforestclassifier__min_samples_leaf=4, randomforestclassifier__min_samples_split=2, score=0.7270605135571916, total=  17.8s\n",
            "[CV] randomforestclassifier__max_depth=6, randomforestclassifier__max_features=auto, randomforestclassifier__min_samples_leaf=4, randomforestclassifier__min_samples_split=2 \n",
            "[CV]  randomforestclassifier__max_depth=6, randomforestclassifier__max_features=auto, randomforestclassifier__min_samples_leaf=4, randomforestclassifier__min_samples_split=2, score=0.7260034120499237, total=   9.2s\n",
            "[CV] randomforestclassifier__max_depth=6, randomforestclassifier__max_features=auto, randomforestclassifier__min_samples_leaf=4, randomforestclassifier__min_samples_split=3 \n",
            "[CV]  randomforestclassifier__max_depth=6, randomforestclassifier__max_features=auto, randomforestclassifier__min_samples_leaf=4, randomforestclassifier__min_samples_split=3, score=0.7238732267911654, total=  16.8s\n",
            "[CV] randomforestclassifier__max_depth=6, randomforestclassifier__max_features=auto, randomforestclassifier__min_samples_leaf=4, randomforestclassifier__min_samples_split=3 \n",
            "[CV]  randomforestclassifier__max_depth=6, randomforestclassifier__max_features=auto, randomforestclassifier__min_samples_leaf=4, randomforestclassifier__min_samples_split=3, score=0.7262727844123193, total=  17.3s\n",
            "[CV] randomforestclassifier__max_depth=6, randomforestclassifier__max_features=auto, randomforestclassifier__min_samples_leaf=4, randomforestclassifier__min_samples_split=4 \n",
            "[CV]  randomforestclassifier__max_depth=6, randomforestclassifier__max_features=auto, randomforestclassifier__min_samples_leaf=4, randomforestclassifier__min_samples_split=4, score=0.7254444244927276, total=  17.3s\n",
            "[CV] randomforestclassifier__max_depth=6, randomforestclassifier__max_features=auto, randomforestclassifier__min_samples_leaf=4, randomforestclassifier__min_samples_split=4 \n",
            "[CV]  randomforestclassifier__max_depth=6, randomforestclassifier__max_features=auto, randomforestclassifier__min_samples_leaf=4, randomforestclassifier__min_samples_split=4, score=0.7253299811439347, total=  17.5s\n",
            "[CV] randomforestclassifier__max_depth=6, randomforestclassifier__max_features=log2, randomforestclassifier__min_samples_leaf=1, randomforestclassifier__min_samples_split=2 \n",
            "[CV]  randomforestclassifier__max_depth=6, randomforestclassifier__max_features=log2, randomforestclassifier__min_samples_leaf=1, randomforestclassifier__min_samples_split=2, score=0.7245465972346921, total=  13.6s\n",
            "[CV] randomforestclassifier__max_depth=6, randomforestclassifier__max_features=log2, randomforestclassifier__min_samples_leaf=1, randomforestclassifier__min_samples_split=2 \n",
            "[CV]  randomforestclassifier__max_depth=6, randomforestclassifier__max_features=log2, randomforestclassifier__min_samples_leaf=1, randomforestclassifier__min_samples_split=2, score=0.7211996049205351, total=  13.1s\n",
            "[CV] randomforestclassifier__max_depth=6, randomforestclassifier__max_features=log2, randomforestclassifier__min_samples_leaf=1, randomforestclassifier__min_samples_split=3 \n",
            "[CV]  randomforestclassifier__max_depth=6, randomforestclassifier__max_features=log2, randomforestclassifier__min_samples_leaf=1, randomforestclassifier__min_samples_split=3, score=0.7223020290896032, total=  13.0s\n",
            "[CV] randomforestclassifier__max_depth=6, randomforestclassifier__max_features=log2, randomforestclassifier__min_samples_leaf=1, randomforestclassifier__min_samples_split=3 \n",
            "[CV]  randomforestclassifier__max_depth=6, randomforestclassifier__max_features=log2, randomforestclassifier__min_samples_leaf=1, randomforestclassifier__min_samples_split=3, score=0.722232198976385, total=  12.7s\n",
            "[CV] randomforestclassifier__max_depth=6, randomforestclassifier__max_features=log2, randomforestclassifier__min_samples_leaf=1, randomforestclassifier__min_samples_split=4 \n",
            "[CV]  randomforestclassifier__max_depth=6, randomforestclassifier__max_features=log2, randomforestclassifier__min_samples_leaf=1, randomforestclassifier__min_samples_split=4, score=0.7201921350332197, total=  13.2s\n",
            "[CV] randomforestclassifier__max_depth=6, randomforestclassifier__max_features=log2, randomforestclassifier__min_samples_leaf=1, randomforestclassifier__min_samples_split=4 \n",
            "[CV]  randomforestclassifier__max_depth=6, randomforestclassifier__max_features=log2, randomforestclassifier__min_samples_leaf=1, randomforestclassifier__min_samples_split=4, score=0.7223668851575828, total=  13.0s\n",
            "[CV] randomforestclassifier__max_depth=6, randomforestclassifier__max_features=log2, randomforestclassifier__min_samples_leaf=2, randomforestclassifier__min_samples_split=2 \n",
            "[CV]  randomforestclassifier__max_depth=6, randomforestclassifier__max_features=log2, randomforestclassifier__min_samples_leaf=2, randomforestclassifier__min_samples_split=2, score=0.7223020290896032, total=  13.7s\n",
            "[CV] randomforestclassifier__max_depth=6, randomforestclassifier__max_features=log2, randomforestclassifier__min_samples_leaf=2, randomforestclassifier__min_samples_split=2 \n",
            "[CV]  randomforestclassifier__max_depth=6, randomforestclassifier__max_features=log2, randomforestclassifier__min_samples_leaf=2, randomforestclassifier__min_samples_split=2, score=0.722007722007722, total=  13.7s\n",
            "[CV] randomforestclassifier__max_depth=6, randomforestclassifier__max_features=log2, randomforestclassifier__min_samples_leaf=2, randomforestclassifier__min_samples_split=3 \n",
            "[CV]  randomforestclassifier__max_depth=6, randomforestclassifier__max_features=log2, randomforestclassifier__min_samples_leaf=2, randomforestclassifier__min_samples_split=3, score=0.7215837672831747, total=  12.9s\n",
            "[CV] randomforestclassifier__max_depth=6, randomforestclassifier__max_features=log2, randomforestclassifier__min_samples_leaf=2, randomforestclassifier__min_samples_split=3 \n",
            "[CV]  randomforestclassifier__max_depth=6, randomforestclassifier__max_features=log2, randomforestclassifier__min_samples_leaf=2, randomforestclassifier__min_samples_split=3, score=0.7202119062584179, total=  13.8s\n",
            "[CV] randomforestclassifier__max_depth=6, randomforestclassifier__max_features=log2, randomforestclassifier__min_samples_leaf=2, randomforestclassifier__min_samples_split=4 \n",
            "[CV]  randomforestclassifier__max_depth=6, randomforestclassifier__max_features=log2, randomforestclassifier__min_samples_leaf=2, randomforestclassifier__min_samples_split=4, score=0.7219428981863889, total=  13.5s\n",
            "[CV] randomforestclassifier__max_depth=6, randomforestclassifier__max_features=log2, randomforestclassifier__min_samples_leaf=2, randomforestclassifier__min_samples_split=4 \n",
            "[CV]  randomforestclassifier__max_depth=6, randomforestclassifier__max_features=log2, randomforestclassifier__min_samples_leaf=2, randomforestclassifier__min_samples_split=4, score=0.725285085750202, total=  13.4s\n",
            "[CV] randomforestclassifier__max_depth=6, randomforestclassifier__max_features=log2, randomforestclassifier__min_samples_leaf=3, randomforestclassifier__min_samples_split=2 \n",
            "[CV]  randomforestclassifier__max_depth=6, randomforestclassifier__max_features=log2, randomforestclassifier__min_samples_leaf=3, randomforestclassifier__min_samples_split=2, score=0.7218980068234871, total=  13.6s\n",
            "[CV] randomforestclassifier__max_depth=6, randomforestclassifier__max_features=log2, randomforestclassifier__min_samples_leaf=3, randomforestclassifier__min_samples_split=2 \n",
            "[CV]  randomforestclassifier__max_depth=6, randomforestclassifier__max_features=log2, randomforestclassifier__min_samples_leaf=3, randomforestclassifier__min_samples_split=2, score=0.7209302325581395, total=  13.5s\n",
            "[CV] randomforestclassifier__max_depth=6, randomforestclassifier__max_features=log2, randomforestclassifier__min_samples_leaf=3, randomforestclassifier__min_samples_split=3 \n",
            "[CV]  randomforestclassifier__max_depth=6, randomforestclassifier__max_features=log2, randomforestclassifier__min_samples_leaf=3, randomforestclassifier__min_samples_split=3, score=0.7207757227509427, total=  13.5s\n",
            "[CV] randomforestclassifier__max_depth=6, randomforestclassifier__max_features=log2, randomforestclassifier__min_samples_leaf=3, randomforestclassifier__min_samples_split=3 \n",
            "[CV]  randomforestclassifier__max_depth=6, randomforestclassifier__max_features=log2, randomforestclassifier__min_samples_leaf=3, randomforestclassifier__min_samples_split=3, score=0.7218730358265242, total=  13.8s\n",
            "[CV] randomforestclassifier__max_depth=6, randomforestclassifier__max_features=log2, randomforestclassifier__min_samples_leaf=3, randomforestclassifier__min_samples_split=4 \n",
            "[CV]  randomforestclassifier__max_depth=6, randomforestclassifier__max_features=log2, randomforestclassifier__min_samples_leaf=3, randomforestclassifier__min_samples_split=4, score=0.7217633327347819, total=  13.5s\n",
            "[CV] randomforestclassifier__max_depth=6, randomforestclassifier__max_features=log2, randomforestclassifier__min_samples_leaf=3, randomforestclassifier__min_samples_split=4 \n",
            "[CV]  randomforestclassifier__max_depth=6, randomforestclassifier__max_features=log2, randomforestclassifier__min_samples_leaf=3, randomforestclassifier__min_samples_split=4, score=0.7238035377570261, total=  13.8s\n",
            "[CV] randomforestclassifier__max_depth=6, randomforestclassifier__max_features=log2, randomforestclassifier__min_samples_leaf=4, randomforestclassifier__min_samples_split=2 \n",
            "[CV]  randomforestclassifier__max_depth=6, randomforestclassifier__max_features=log2, randomforestclassifier__min_samples_leaf=4, randomforestclassifier__min_samples_split=2, score=0.7225264859041121, total=  13.6s\n",
            "[CV] randomforestclassifier__max_depth=6, randomforestclassifier__max_features=log2, randomforestclassifier__min_samples_leaf=4, randomforestclassifier__min_samples_split=2 \n",
            "[CV]  randomforestclassifier__max_depth=6, randomforestclassifier__max_features=log2, randomforestclassifier__min_samples_leaf=4, randomforestclassifier__min_samples_split=2, score=0.7207506509832091, total=  13.4s\n",
            "[CV] randomforestclassifier__max_depth=6, randomforestclassifier__max_features=log2, randomforestclassifier__min_samples_leaf=4, randomforestclassifier__min_samples_split=3 \n",
            "[CV]  randomforestclassifier__max_depth=6, randomforestclassifier__max_features=log2, randomforestclassifier__min_samples_leaf=4, randomforestclassifier__min_samples_split=3, score=0.7197432214042019, total=  13.1s\n",
            "[CV] randomforestclassifier__max_depth=6, randomforestclassifier__max_features=log2, randomforestclassifier__min_samples_leaf=4, randomforestclassifier__min_samples_split=3 \n",
            "[CV]  randomforestclassifier__max_depth=6, randomforestclassifier__max_features=log2, randomforestclassifier__min_samples_leaf=4, randomforestclassifier__min_samples_split=3, score=0.7206159648020113, total=  13.5s\n",
            "[CV] randomforestclassifier__max_depth=6, randomforestclassifier__max_features=log2, randomforestclassifier__min_samples_leaf=4, randomforestclassifier__min_samples_split=4 \n",
            "[CV]  randomforestclassifier__max_depth=6, randomforestclassifier__max_features=log2, randomforestclassifier__min_samples_leaf=4, randomforestclassifier__min_samples_split=4, score=0.7221673550008978, total=  13.8s\n",
            "[CV] randomforestclassifier__max_depth=6, randomforestclassifier__max_features=log2, randomforestclassifier__min_samples_leaf=4, randomforestclassifier__min_samples_split=4 \n",
            "[CV]  randomforestclassifier__max_depth=6, randomforestclassifier__max_features=log2, randomforestclassifier__min_samples_leaf=4, randomforestclassifier__min_samples_split=4, score=0.7206159648020113, total=  13.2s\n",
            "[CV] randomforestclassifier__max_depth=7, randomforestclassifier__max_features=auto, randomforestclassifier__min_samples_leaf=1, randomforestclassifier__min_samples_split=2 \n",
            "[CV]  randomforestclassifier__max_depth=7, randomforestclassifier__max_features=auto, randomforestclassifier__min_samples_leaf=1, randomforestclassifier__min_samples_split=2, score=0.735275632968217, total=  19.4s\n",
            "[CV] randomforestclassifier__max_depth=7, randomforestclassifier__max_features=auto, randomforestclassifier__min_samples_leaf=1, randomforestclassifier__min_samples_split=2 \n",
            "[CV]  randomforestclassifier__max_depth=7, randomforestclassifier__max_features=auto, randomforestclassifier__min_samples_leaf=1, randomforestclassifier__min_samples_split=2, score=0.7338152105593966, total=  20.7s\n",
            "[CV] randomforestclassifier__max_depth=7, randomforestclassifier__max_features=auto, randomforestclassifier__min_samples_leaf=1, randomforestclassifier__min_samples_split=3 \n",
            "[CV]  randomforestclassifier__max_depth=7, randomforestclassifier__max_features=auto, randomforestclassifier__min_samples_leaf=1, randomforestclassifier__min_samples_split=3, score=0.7335248698150476, total=  19.9s\n",
            "[CV] randomforestclassifier__max_depth=7, randomforestclassifier__max_features=auto, randomforestclassifier__min_samples_leaf=1, randomforestclassifier__min_samples_split=3 \n",
            "[CV]  randomforestclassifier__max_depth=7, randomforestclassifier__max_features=auto, randomforestclassifier__min_samples_leaf=1, randomforestclassifier__min_samples_split=3, score=0.7338601059531292, total=  19.6s\n",
            "[CV] randomforestclassifier__max_depth=7, randomforestclassifier__max_features=auto, randomforestclassifier__min_samples_leaf=1, randomforestclassifier__min_samples_split=4 \n",
            "[CV]  randomforestclassifier__max_depth=7, randomforestclassifier__max_features=auto, randomforestclassifier__min_samples_leaf=1, randomforestclassifier__min_samples_split=4, score=0.7324923684683067, total=  19.7s\n",
            "[CV] randomforestclassifier__max_depth=7, randomforestclassifier__max_features=auto, randomforestclassifier__min_samples_leaf=1, randomforestclassifier__min_samples_split=4 \n",
            "[CV]  randomforestclassifier__max_depth=7, randomforestclassifier__max_features=auto, randomforestclassifier__min_samples_leaf=1, randomforestclassifier__min_samples_split=4, score=0.7354314447337703, total=  19.7s\n",
            "[CV] randomforestclassifier__max_depth=7, randomforestclassifier__max_features=auto, randomforestclassifier__min_samples_leaf=2, randomforestclassifier__min_samples_split=2 \n",
            "[CV]  randomforestclassifier__max_depth=7, randomforestclassifier__max_features=auto, randomforestclassifier__min_samples_leaf=2, randomforestclassifier__min_samples_split=2, score=0.7361734602262525, total=  20.2s\n",
            "[CV] randomforestclassifier__max_depth=7, randomforestclassifier__max_features=auto, randomforestclassifier__min_samples_leaf=2, randomforestclassifier__min_samples_split=2 \n",
            "[CV]  randomforestclassifier__max_depth=7, randomforestclassifier__max_features=auto, randomforestclassifier__min_samples_leaf=2, randomforestclassifier__min_samples_split=2, score=0.7343988506779204, total=  19.4s\n",
            "[CV] randomforestclassifier__max_depth=7, randomforestclassifier__max_features=auto, randomforestclassifier__min_samples_leaf=2, randomforestclassifier__min_samples_split=3 \n",
            "[CV]  randomforestclassifier__max_depth=7, randomforestclassifier__max_features=auto, randomforestclassifier__min_samples_leaf=2, randomforestclassifier__min_samples_split=3, score=0.7335248698150476, total=  19.6s\n",
            "[CV] randomforestclassifier__max_depth=7, randomforestclassifier__max_features=auto, randomforestclassifier__min_samples_leaf=2, randomforestclassifier__min_samples_split=3 \n",
            "[CV]  randomforestclassifier__max_depth=7, randomforestclassifier__max_features=auto, randomforestclassifier__min_samples_leaf=2, randomforestclassifier__min_samples_split=3, score=0.733770315165664, total=  19.3s\n",
            "[CV] randomforestclassifier__max_depth=7, randomforestclassifier__max_features=auto, randomforestclassifier__min_samples_leaf=2, randomforestclassifier__min_samples_split=4 \n",
            "[CV]  randomforestclassifier__max_depth=7, randomforestclassifier__max_features=auto, randomforestclassifier__min_samples_leaf=2, randomforestclassifier__min_samples_split=4, score=0.7349165020650027, total=  19.4s\n",
            "[CV] randomforestclassifier__max_depth=7, randomforestclassifier__max_features=auto, randomforestclassifier__min_samples_leaf=2, randomforestclassifier__min_samples_split=4 \n",
            "[CV]  randomforestclassifier__max_depth=7, randomforestclassifier__max_features=auto, randomforestclassifier__min_samples_leaf=2, randomforestclassifier__min_samples_split=4, score=0.7324234533536859, total=  19.8s\n",
            "[CV] randomforestclassifier__max_depth=7, randomforestclassifier__max_features=auto, randomforestclassifier__min_samples_leaf=3, randomforestclassifier__min_samples_split=2 \n",
            "[CV]  randomforestclassifier__max_depth=7, randomforestclassifier__max_features=auto, randomforestclassifier__min_samples_leaf=3, randomforestclassifier__min_samples_split=2, score=0.7333004130005387, total=  20.0s\n",
            "[CV] randomforestclassifier__max_depth=7, randomforestclassifier__max_features=auto, randomforestclassifier__min_samples_leaf=3, randomforestclassifier__min_samples_split=2 \n",
            "[CV]  randomforestclassifier__max_depth=7, randomforestclassifier__max_features=auto, randomforestclassifier__min_samples_leaf=3, randomforestclassifier__min_samples_split=2, score=0.7330070934722097, total=  19.7s\n",
            "[CV] randomforestclassifier__max_depth=7, randomforestclassifier__max_features=auto, randomforestclassifier__min_samples_leaf=3, randomforestclassifier__min_samples_split=3 \n",
            "[CV]  randomforestclassifier__max_depth=7, randomforestclassifier__max_features=auto, randomforestclassifier__min_samples_leaf=3, randomforestclassifier__min_samples_split=3, score=0.7342880229843778, total=  20.4s\n",
            "[CV] randomforestclassifier__max_depth=7, randomforestclassifier__max_features=auto, randomforestclassifier__min_samples_leaf=3, randomforestclassifier__min_samples_split=3 \n",
            "[CV]  randomforestclassifier__max_depth=7, randomforestclassifier__max_features=auto, randomforestclassifier__min_samples_leaf=3, randomforestclassifier__min_samples_split=3, score=0.7344886414653856, total=  20.1s\n",
            "[CV] randomforestclassifier__max_depth=7, randomforestclassifier__max_features=auto, randomforestclassifier__min_samples_leaf=3, randomforestclassifier__min_samples_split=4 \n",
            "[CV]  randomforestclassifier__max_depth=7, randomforestclassifier__max_features=auto, randomforestclassifier__min_samples_leaf=3, randomforestclassifier__min_samples_split=4, score=0.7343329143472795, total=  19.7s\n",
            "[CV] randomforestclassifier__max_depth=7, randomforestclassifier__max_features=auto, randomforestclassifier__min_samples_leaf=3, randomforestclassifier__min_samples_split=4 \n",
            "[CV]  randomforestclassifier__max_depth=7, randomforestclassifier__max_features=auto, randomforestclassifier__min_samples_leaf=3, randomforestclassifier__min_samples_split=4, score=0.7351171769776421, total=  19.4s\n",
            "[CV] randomforestclassifier__max_depth=7, randomforestclassifier__max_features=auto, randomforestclassifier__min_samples_leaf=4, randomforestclassifier__min_samples_split=2 \n",
            "[CV]  randomforestclassifier__max_depth=7, randomforestclassifier__max_features=auto, randomforestclassifier__min_samples_leaf=4, randomforestclassifier__min_samples_split=2, score=0.734243131621476, total=  19.0s\n",
            "[CV] randomforestclassifier__max_depth=7, randomforestclassifier__max_features=auto, randomforestclassifier__min_samples_leaf=4, randomforestclassifier__min_samples_split=2 \n",
            "[CV]  randomforestclassifier__max_depth=7, randomforestclassifier__max_features=auto, randomforestclassifier__min_samples_leaf=4, randomforestclassifier__min_samples_split=2, score=0.7318398132351621, total=  20.1s\n",
            "[CV] randomforestclassifier__max_depth=7, randomforestclassifier__max_features=auto, randomforestclassifier__min_samples_leaf=4, randomforestclassifier__min_samples_split=3 \n",
            "[CV]  randomforestclassifier__max_depth=7, randomforestclassifier__max_features=auto, randomforestclassifier__min_samples_leaf=4, randomforestclassifier__min_samples_split=3, score=0.7343778057101814, total=  19.0s\n",
            "[CV] randomforestclassifier__max_depth=7, randomforestclassifier__max_features=auto, randomforestclassifier__min_samples_leaf=4, randomforestclassifier__min_samples_split=3 \n",
            "[CV]  randomforestclassifier__max_depth=7, randomforestclassifier__max_features=auto, randomforestclassifier__min_samples_leaf=4, randomforestclassifier__min_samples_split=3, score=0.7336805243781988, total=  19.5s\n",
            "[CV] randomforestclassifier__max_depth=7, randomforestclassifier__max_features=auto, randomforestclassifier__min_samples_leaf=4, randomforestclassifier__min_samples_split=4 \n",
            "[CV]  randomforestclassifier__max_depth=7, randomforestclassifier__max_features=auto, randomforestclassifier__min_samples_leaf=4, randomforestclassifier__min_samples_split=4, score=0.7333004130005387, total=  19.6s\n",
            "[CV] randomforestclassifier__max_depth=7, randomforestclassifier__max_features=auto, randomforestclassifier__min_samples_leaf=4, randomforestclassifier__min_samples_split=4 \n",
            "[CV]  randomforestclassifier__max_depth=7, randomforestclassifier__max_features=auto, randomforestclassifier__min_samples_leaf=4, randomforestclassifier__min_samples_split=4, score=0.7334111520158032, total=  20.1s\n",
            "[CV] randomforestclassifier__max_depth=7, randomforestclassifier__max_features=log2, randomforestclassifier__min_samples_leaf=1, randomforestclassifier__min_samples_split=2 \n",
            "[CV]  randomforestclassifier__max_depth=7, randomforestclassifier__max_features=log2, randomforestclassifier__min_samples_leaf=1, randomforestclassifier__min_samples_split=2, score=0.7298886694200036, total=  14.5s\n",
            "[CV] randomforestclassifier__max_depth=7, randomforestclassifier__max_features=log2, randomforestclassifier__min_samples_leaf=1, randomforestclassifier__min_samples_split=2 \n",
            "[CV]  randomforestclassifier__max_depth=7, randomforestclassifier__max_features=log2, randomforestclassifier__min_samples_leaf=1, randomforestclassifier__min_samples_split=2, score=0.7296399389422645, total=  14.8s\n",
            "[CV] randomforestclassifier__max_depth=7, randomforestclassifier__max_features=log2, randomforestclassifier__min_samples_leaf=1, randomforestclassifier__min_samples_split=3 \n",
            "[CV]  randomforestclassifier__max_depth=7, randomforestclassifier__max_features=log2, randomforestclassifier__min_samples_leaf=1, randomforestclassifier__min_samples_split=3, score=0.7297539953312983, total=  14.8s\n",
            "[CV] randomforestclassifier__max_depth=7, randomforestclassifier__max_features=log2, randomforestclassifier__min_samples_leaf=1, randomforestclassifier__min_samples_split=3 \n",
            "[CV]  randomforestclassifier__max_depth=7, randomforestclassifier__max_features=log2, randomforestclassifier__min_samples_leaf=1, randomforestclassifier__min_samples_split=3, score=0.7315704408727665, total=  13.8s\n",
            "[CV] randomforestclassifier__max_depth=7, randomforestclassifier__max_features=log2, randomforestclassifier__min_samples_leaf=1, randomforestclassifier__min_samples_split=4 \n",
            "[CV]  randomforestclassifier__max_depth=7, randomforestclassifier__max_features=log2, randomforestclassifier__min_samples_leaf=1, randomforestclassifier__min_samples_split=4, score=0.7300233435087089, total=  12.8s\n",
            "[CV] randomforestclassifier__max_depth=7, randomforestclassifier__max_features=log2, randomforestclassifier__min_samples_leaf=1, randomforestclassifier__min_samples_split=4 \n",
            "[CV]  randomforestclassifier__max_depth=7, randomforestclassifier__max_features=log2, randomforestclassifier__min_samples_leaf=1, randomforestclassifier__min_samples_split=4, score=0.7296848343359972, total=  14.4s\n",
            "[CV] randomforestclassifier__max_depth=7, randomforestclassifier__max_features=log2, randomforestclassifier__min_samples_leaf=2, randomforestclassifier__min_samples_split=2 \n",
            "[CV]  randomforestclassifier__max_depth=7, randomforestclassifier__max_features=log2, randomforestclassifier__min_samples_leaf=2, randomforestclassifier__min_samples_split=2, score=0.7301580175974143, total=  14.7s\n",
            "[CV] randomforestclassifier__max_depth=7, randomforestclassifier__max_features=log2, randomforestclassifier__min_samples_leaf=2, randomforestclassifier__min_samples_split=2 \n",
            "[CV]  randomforestclassifier__max_depth=7, randomforestclassifier__max_features=log2, randomforestclassifier__min_samples_leaf=2, randomforestclassifier__min_samples_split=2, score=0.7304031606357188, total=  14.5s\n",
            "[CV] randomforestclassifier__max_depth=7, randomforestclassifier__max_features=log2, randomforestclassifier__min_samples_leaf=2, randomforestclassifier__min_samples_split=3 \n",
            "[CV]  randomforestclassifier__max_depth=7, randomforestclassifier__max_features=log2, randomforestclassifier__min_samples_leaf=2, randomforestclassifier__min_samples_split=3, score=0.7298437780571018, total=  14.6s\n",
            "[CV] randomforestclassifier__max_depth=7, randomforestclassifier__max_features=log2, randomforestclassifier__min_samples_leaf=2, randomforestclassifier__min_samples_split=3 \n",
            "[CV]  randomforestclassifier__max_depth=7, randomforestclassifier__max_features=log2, randomforestclassifier__min_samples_leaf=2, randomforestclassifier__min_samples_split=3, score=0.7297746251234624, total=  14.6s\n",
            "[CV] randomforestclassifier__max_depth=7, randomforestclassifier__max_features=log2, randomforestclassifier__min_samples_leaf=2, randomforestclassifier__min_samples_split=4 \n",
            "[CV]  randomforestclassifier__max_depth=7, randomforestclassifier__max_features=log2, randomforestclassifier__min_samples_leaf=2, randomforestclassifier__min_samples_split=4, score=0.7296193212425929, total=  14.7s\n",
            "[CV] randomforestclassifier__max_depth=7, randomforestclassifier__max_features=log2, randomforestclassifier__min_samples_leaf=2, randomforestclassifier__min_samples_split=4 \n",
            "[CV]  randomforestclassifier__max_depth=7, randomforestclassifier__max_features=log2, randomforestclassifier__min_samples_leaf=2, randomforestclassifier__min_samples_split=4, score=0.73094190536051, total=  14.6s\n",
            "[CV] randomforestclassifier__max_depth=7, randomforestclassifier__max_features=log2, randomforestclassifier__min_samples_leaf=3, randomforestclassifier__min_samples_split=2 \n",
            "[CV]  randomforestclassifier__max_depth=7, randomforestclassifier__max_features=log2, randomforestclassifier__min_samples_leaf=3, randomforestclassifier__min_samples_split=2, score=0.7279134494523254, total=  14.6s\n",
            "[CV] randomforestclassifier__max_depth=7, randomforestclassifier__max_features=log2, randomforestclassifier__min_samples_leaf=3, randomforestclassifier__min_samples_split=2 \n",
            "[CV]  randomforestclassifier__max_depth=7, randomforestclassifier__max_features=log2, randomforestclassifier__min_samples_leaf=3, randomforestclassifier__min_samples_split=2, score=0.7299093113046602, total=  14.7s\n",
            "[CV] randomforestclassifier__max_depth=7, randomforestclassifier__max_features=log2, randomforestclassifier__min_samples_leaf=3, randomforestclassifier__min_samples_split=3 \n",
            "[CV]  randomforestclassifier__max_depth=7, randomforestclassifier__max_features=log2, randomforestclassifier__min_samples_leaf=3, randomforestclassifier__min_samples_split=3, score=0.7294397557909859, total=  14.7s\n",
            "[CV] randomforestclassifier__max_depth=7, randomforestclassifier__max_features=log2, randomforestclassifier__min_samples_leaf=3, randomforestclassifier__min_samples_split=3 \n",
            "[CV]  randomforestclassifier__max_depth=7, randomforestclassifier__max_features=log2, randomforestclassifier__min_samples_leaf=3, randomforestclassifier__min_samples_split=3, score=0.7282930771302865, total=  14.6s\n",
            "[CV] randomforestclassifier__max_depth=7, randomforestclassifier__max_features=log2, randomforestclassifier__min_samples_leaf=3, randomforestclassifier__min_samples_split=4 \n",
            "[CV]  randomforestclassifier__max_depth=7, randomforestclassifier__max_features=log2, randomforestclassifier__min_samples_leaf=3, randomforestclassifier__min_samples_split=4, score=0.7299784521458071, total=  14.4s\n",
            "[CV] randomforestclassifier__max_depth=7, randomforestclassifier__max_features=log2, randomforestclassifier__min_samples_leaf=3, randomforestclassifier__min_samples_split=4 \n",
            "[CV]  randomforestclassifier__max_depth=7, randomforestclassifier__max_features=log2, randomforestclassifier__min_samples_leaf=3, randomforestclassifier__min_samples_split=4, score=0.7310316961479753, total=  14.7s\n",
            "[CV] randomforestclassifier__max_depth=7, randomforestclassifier__max_features=log2, randomforestclassifier__min_samples_leaf=4, randomforestclassifier__min_samples_split=2 \n",
            "[CV]  randomforestclassifier__max_depth=7, randomforestclassifier__max_features=log2, randomforestclassifier__min_samples_leaf=4, randomforestclassifier__min_samples_split=2, score=0.7320434548392889, total=  15.0s\n",
            "[CV] randomforestclassifier__max_depth=7, randomforestclassifier__max_features=log2, randomforestclassifier__min_samples_leaf=4, randomforestclassifier__min_samples_split=2 \n",
            "[CV]  randomforestclassifier__max_depth=7, randomforestclassifier__max_features=log2, randomforestclassifier__min_samples_leaf=4, randomforestclassifier__min_samples_split=2, score=0.7302235790607884, total=  14.5s\n",
            "[CV] randomforestclassifier__max_depth=7, randomforestclassifier__max_features=log2, randomforestclassifier__min_samples_leaf=4, randomforestclassifier__min_samples_split=3 \n",
            "[CV]  randomforestclassifier__max_depth=7, randomforestclassifier__max_features=log2, randomforestclassifier__min_samples_leaf=4, randomforestclassifier__min_samples_split=3, score=0.7293050817022805, total=  15.0s\n",
            "[CV] randomforestclassifier__max_depth=7, randomforestclassifier__max_features=log2, randomforestclassifier__min_samples_leaf=4, randomforestclassifier__min_samples_split=3 \n",
            "[CV]  randomforestclassifier__max_depth=7, randomforestclassifier__max_features=log2, randomforestclassifier__min_samples_leaf=4, randomforestclassifier__min_samples_split=3, score=0.7318847086288947, total=  14.4s\n",
            "[CV] randomforestclassifier__max_depth=7, randomforestclassifier__max_features=log2, randomforestclassifier__min_samples_leaf=4, randomforestclassifier__min_samples_split=4 \n",
            "[CV]  randomforestclassifier__max_depth=7, randomforestclassifier__max_features=log2, randomforestclassifier__min_samples_leaf=4, randomforestclassifier__min_samples_split=4, score=0.7303824744119232, total=  14.3s\n",
            "[CV] randomforestclassifier__max_depth=7, randomforestclassifier__max_features=log2, randomforestclassifier__min_samples_leaf=4, randomforestclassifier__min_samples_split=4 \n",
            "[CV]  randomforestclassifier__max_depth=7, randomforestclassifier__max_features=log2, randomforestclassifier__min_samples_leaf=4, randomforestclassifier__min_samples_split=4, score=0.7335009428032684, total=  14.7s\n"
          ],
          "name": "stdout"
        },
        {
          "output_type": "stream",
          "text": [
            "[Parallel(n_jobs=1)]: Done 144 out of 144 | elapsed: 35.2min finished\n"
          ],
          "name": "stderr"
        },
        {
          "output_type": "execute_result",
          "data": {
            "text/plain": [
              "GridSearchCV(cv=2, error_score='raise-deprecating',\n",
              "       estimator=Pipeline(memory=None,\n",
              "     steps=[('binaryencoder', BinaryEncoder(cols=None, drop_invariant=False, handle_unknown='impute',\n",
              "       impute_missing=True, return_df=True, verbose=0)), ('robustscaler', RobustScaler(copy=True, quantile_range=(25.0, 75.0), with_centering=True,\n",
              "       with_scaling=True)), ('randomforestclassifier', ..._jobs=-1,\n",
              "            oob_score=False, random_state=None, verbose=0,\n",
              "            warm_start=False))]),\n",
              "       fit_params=None, iid='warn', n_jobs=None,\n",
              "       param_grid={'randomforestclassifier__max_depth': [5, 6, 7], 'randomforestclassifier__min_samples_split': [2, 3, 4], 'randomforestclassifier__min_samples_leaf': [1, 2, 3, 4], 'randomforestclassifier__max_features': ['auto', 'log2']},\n",
              "       pre_dispatch='2*n_jobs', refit=True, return_train_score='warn',\n",
              "       scoring='accuracy', verbose=20)"
            ]
          },
          "metadata": {
            "tags": []
          },
          "execution_count": 100
        }
      ]
    },
    {
      "metadata": {
        "id": "426lM6bh-Ady",
        "colab_type": "code",
        "colab": {
          "base_uri": "https://localhost:8080/",
          "height": 72
        },
        "outputId": "c085fc8b-8838-4abd-ae32-dfdd9b519baf"
      },
      "cell_type": "code",
      "source": [
        "# Interpret the results.\n",
        "\n",
        "# Best cross validation score\n",
        "print('Cross Validation Score:', gridsearch.best_score_)\n",
        "\n",
        "# Best parameters which resulted in the best score\n",
        "print('Best Parameters:', gridsearch.best_params_)"
      ],
      "execution_count": 101,
      "outputs": [
        {
          "output_type": "stream",
          "text": [
            "Cross Validation Score: 0.7352861952861953\n",
            "Best Parameters: {'randomforestclassifier__max_depth': 7, 'randomforestclassifier__max_features': 'auto', 'randomforestclassifier__min_samples_leaf': 2, 'randomforestclassifier__min_samples_split': 2}\n"
          ],
          "name": "stdout"
        }
      ]
    },
    {
      "metadata": {
        "id": "Z21cnpwJ-Dau",
        "colab_type": "code",
        "outputId": "6912ab9f-f3af-4467-dfa2-99716ef5cff4",
        "colab": {
          "base_uri": "https://localhost:8080/",
          "height": 35
        }
      },
      "cell_type": "code",
      "source": [
        "#Get the best model and check it against test data set.\n",
        "\n",
        "# Predict with X_test features\n",
        "y_pred = gridsearch.predict(X_test)\n",
        "\n",
        "# Compare predictions to y_test labels\n",
        "test_score = accuracy_score(y_test, y_pred)\n",
        "print('Accuracy Score on test data set:', test_score)"
      ],
      "execution_count": 102,
      "outputs": [
        {
          "output_type": "stream",
          "text": [
            "Accuracy Score on test data set: 0.7307070707070707\n"
          ],
          "name": "stdout"
        }
      ]
    },
    {
      "metadata": {
        "id": "kGmGyZAi-HQv",
        "colab_type": "code",
        "colab": {}
      },
      "cell_type": "code",
      "source": [
        "test_features_df = pd.read_csv('test_features.csv', na_values=nan_values_list)\n",
        "feature_engineering(test_features_df)\n",
        "\n",
        "X_submission = test_features_df.drop(columns =['id', 'funder', 'installer', 'wpt_name', 'subvillage', \n",
        "                                    'lga','ward','scheme_name'])\n",
        "\n",
        "# Predict with X_submission features\n",
        "y_submission = gridsearch.predict(X_submission)\n",
        "\n",
        "y_submission_df = pd.DataFrame(y_submission, columns=['status_group'])\n",
        "output_for_submission = test_features_df.join(y_submission_df).loc[:, ['id','status_group']]"
      ],
      "execution_count": 0,
      "outputs": []
    },
    {
      "metadata": {
        "id": "ahroY1is-LRR",
        "colab_type": "code",
        "outputId": "24b9edc9-7c1b-437f-d70e-09f121dc7584",
        "colab": {
          "base_uri": "https://localhost:8080/",
          "height": 202
        }
      },
      "cell_type": "code",
      "source": [
        "output_for_submission.head()"
      ],
      "execution_count": 104,
      "outputs": [
        {
          "output_type": "execute_result",
          "data": {
            "text/html": [
              "<div>\n",
              "<style scoped>\n",
              "    .dataframe tbody tr th:only-of-type {\n",
              "        vertical-align: middle;\n",
              "    }\n",
              "\n",
              "    .dataframe tbody tr th {\n",
              "        vertical-align: top;\n",
              "    }\n",
              "\n",
              "    .dataframe thead th {\n",
              "        text-align: right;\n",
              "    }\n",
              "</style>\n",
              "<table border=\"1\" class=\"dataframe\">\n",
              "  <thead>\n",
              "    <tr style=\"text-align: right;\">\n",
              "      <th></th>\n",
              "      <th>id</th>\n",
              "      <th>status_group</th>\n",
              "    </tr>\n",
              "  </thead>\n",
              "  <tbody>\n",
              "    <tr>\n",
              "      <th>0</th>\n",
              "      <td>50785</td>\n",
              "      <td>non functional</td>\n",
              "    </tr>\n",
              "    <tr>\n",
              "      <th>1</th>\n",
              "      <td>51630</td>\n",
              "      <td>functional</td>\n",
              "    </tr>\n",
              "    <tr>\n",
              "      <th>2</th>\n",
              "      <td>17168</td>\n",
              "      <td>non functional</td>\n",
              "    </tr>\n",
              "    <tr>\n",
              "      <th>3</th>\n",
              "      <td>45559</td>\n",
              "      <td>non functional</td>\n",
              "    </tr>\n",
              "    <tr>\n",
              "      <th>4</th>\n",
              "      <td>49871</td>\n",
              "      <td>functional</td>\n",
              "    </tr>\n",
              "  </tbody>\n",
              "</table>\n",
              "</div>"
            ],
            "text/plain": [
              "      id    status_group\n",
              "0  50785  non functional\n",
              "1  51630      functional\n",
              "2  17168  non functional\n",
              "3  45559  non functional\n",
              "4  49871      functional"
            ]
          },
          "metadata": {
            "tags": []
          },
          "execution_count": 104
        }
      ]
    },
    {
      "metadata": {
        "id": "gaXDKW3w-Nn9",
        "colab_type": "code",
        "outputId": "5e677898-7ffc-41f3-eba3-d210b51c9fa4",
        "colab": {
          "base_uri": "https://localhost:8080/",
          "height": 87
        }
      },
      "cell_type": "code",
      "source": [
        "print(output_for_submission.status_group.value_counts())\n",
        "print(output_for_submission.shape)"
      ],
      "execution_count": 105,
      "outputs": [
        {
          "output_type": "stream",
          "text": [
            "functional        10820\n",
            "non functional     3538\n",
            "Name: status_group, dtype: int64\n",
            "(14358, 2)\n"
          ],
          "name": "stdout"
        }
      ]
    },
    {
      "metadata": {
        "id": "ZT4yRwcE-cLr",
        "colab_type": "code",
        "colab": {}
      },
      "cell_type": "code",
      "source": [
        "print(output_for_submission.to_csv(index=False))"
      ],
      "execution_count": 0,
      "outputs": []
    }
  ]
}